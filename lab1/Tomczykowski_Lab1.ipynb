{
 "cells": [
  {
   "cell_type": "markdown",
   "metadata": {
    "id": "2xUZcLMxrF4C"
   },
   "source": [
    "<img src=\"gcd.png\" align=\"right\" style=\"float\" width=\"92\">\n",
    "<img src=https://static.casadomo.com/media/2020/02/lonmark-espana-universidad-valencia-jornada-automatizacion.png  align=\"right\" style=\"float\" width=\"150\">\n",
    "\n",
    "\n",
    "<font color=\"#CA3532\"><h1 align=\"left\">Degree in Data Science.</h1></font>\n",
    "<font color=\"#6E6E6E\"><h2 align=\"left\">Lab Session 1. Normalization, Coding and Feature Selection. </h2></font> \n",
    "\n",
    "Information for the lab session available in the following link: \n",
    "https://scikit-learn.org/stable/modules/preprocessing.html\n",
    "\n",
    "#### Miguel Ángel Fernández Torres, Yolanda Vives Gilabert, Álvaro Moreno Martínez, Marcelino Martínez Sober"
   ]
  },
  {
   "cell_type": "markdown",
   "metadata": {
    "id": "HUB_dW6eWbPS"
   },
   "source": [
    "## 1.1. Variable Normalization\n",
    "First, we need to load the libraries required for the lab session."
   ]
  },
  {
   "cell_type": "code",
   "execution_count": 1,
   "metadata": {
    "id": "0ibuYiUpWP7q"
   },
   "outputs": [],
   "source": [
    "from sklearn import datasets\n",
    "import matplotlib.pyplot as plt\n",
    "%matplotlib inline\n",
    "import numpy as np"
   ]
  },
  {
   "cell_type": "markdown",
   "metadata": {
    "id": "MrbED4YdXv05"
   },
   "source": [
    "Then, download the IRIS dataset available in sklearn and print its description and content."
   ]
  },
  {
   "cell_type": "code",
   "execution_count": 2,
   "metadata": {
    "id": "ck--S8VzWQHp"
   },
   "outputs": [],
   "source": [
    "iris = datasets.load_iris()"
   ]
  },
  {
   "cell_type": "code",
   "execution_count": 3,
   "metadata": {
    "colab": {
     "base_uri": "https://localhost:8080/",
     "height": 1000
    },
    "id": "Te2rHjyGWQPd",
    "outputId": "f76a9aa8-2058-4a43-96d2-64b0f57d33c4"
   },
   "outputs": [
    {
     "name": "stdout",
     "output_type": "stream",
     "text": [
      ".. _iris_dataset:\n",
      "\n",
      "Iris plants dataset\n",
      "--------------------\n",
      "\n",
      "**Data Set Characteristics:**\n",
      "\n",
      "    :Number of Instances: 150 (50 in each of three classes)\n",
      "    :Number of Attributes: 4 numeric, predictive attributes and the class\n",
      "    :Attribute Information:\n",
      "        - sepal length in cm\n",
      "        - sepal width in cm\n",
      "        - petal length in cm\n",
      "        - petal width in cm\n",
      "        - class:\n",
      "                - Iris-Setosa\n",
      "                - Iris-Versicolour\n",
      "                - Iris-Virginica\n",
      "                \n",
      "    :Summary Statistics:\n",
      "\n",
      "    ============== ==== ==== ======= ===== ====================\n",
      "                    Min  Max   Mean    SD   Class Correlation\n",
      "    ============== ==== ==== ======= ===== ====================\n",
      "    sepal length:   4.3  7.9   5.84   0.83    0.7826\n",
      "    sepal width:    2.0  4.4   3.05   0.43   -0.4194\n",
      "    petal length:   1.0  6.9   3.76   1.76    0.9490  (high!)\n",
      "    petal width:    0.1  2.5   1.20   0.76    0.9565  (high!)\n",
      "    ============== ==== ==== ======= ===== ====================\n",
      "\n",
      "    :Missing Attribute Values: None\n",
      "    :Class Distribution: 33.3% for each of 3 classes.\n",
      "    :Creator: R.A. Fisher\n",
      "    :Donor: Michael Marshall (MARSHALL%PLU@io.arc.nasa.gov)\n",
      "    :Date: July, 1988\n",
      "\n",
      "The famous Iris database, first used by Sir R.A. Fisher. The dataset is taken\n",
      "from Fisher's paper. Note that it's the same as in R, but not as in the UCI\n",
      "Machine Learning Repository, which has two wrong data points.\n",
      "\n",
      "This is perhaps the best known database to be found in the\n",
      "pattern recognition literature.  Fisher's paper is a classic in the field and\n",
      "is referenced frequently to this day.  (See Duda & Hart, for example.)  The\n",
      "data set contains 3 classes of 50 instances each, where each class refers to a\n",
      "type of iris plant.  One class is linearly separable from the other 2; the\n",
      "latter are NOT linearly separable from each other.\n",
      "\n",
      ".. topic:: References\n",
      "\n",
      "   - Fisher, R.A. \"The use of multiple measurements in taxonomic problems\"\n",
      "     Annual Eugenics, 7, Part II, 179-188 (1936); also in \"Contributions to\n",
      "     Mathematical Statistics\" (John Wiley, NY, 1950).\n",
      "   - Duda, R.O., & Hart, P.E. (1973) Pattern Classification and Scene Analysis.\n",
      "     (Q327.D83) John Wiley & Sons.  ISBN 0-471-22361-1.  See page 218.\n",
      "   - Dasarathy, B.V. (1980) \"Nosing Around the Neighborhood: A New System\n",
      "     Structure and Classification Rule for Recognition in Partially Exposed\n",
      "     Environments\".  IEEE Transactions on Pattern Analysis and Machine\n",
      "     Intelligence, Vol. PAMI-2, No. 1, 67-71.\n",
      "   - Gates, G.W. (1972) \"The Reduced Nearest Neighbor Rule\".  IEEE Transactions\n",
      "     on Information Theory, May 1972, 431-433.\n",
      "   - See also: 1988 MLC Proceedings, 54-64.  Cheeseman et al\"s AUTOCLASS II\n",
      "     conceptual clustering system finds 3 classes in the data.\n",
      "   - Many, many more ...\n"
     ]
    }
   ],
   "source": [
    "# Show the dataset description\n",
    "print(iris.DESCR)"
   ]
  },
  {
   "cell_type": "code",
   "execution_count": 4,
   "metadata": {
    "id": "SbNt5zF4W6OE"
   },
   "outputs": [
    {
     "data": {
      "text/plain": [
       "array([[5.1, 3.5, 1.4, 0.2],\n",
       "       [4.9, 3. , 1.4, 0.2],\n",
       "       [4.7, 3.2, 1.3, 0.2],\n",
       "       [4.6, 3.1, 1.5, 0.2],\n",
       "       [5. , 3.6, 1.4, 0.2],\n",
       "       [5.4, 3.9, 1.7, 0.4],\n",
       "       [4.6, 3.4, 1.4, 0.3],\n",
       "       [5. , 3.4, 1.5, 0.2],\n",
       "       [4.4, 2.9, 1.4, 0.2],\n",
       "       [4.9, 3.1, 1.5, 0.1],\n",
       "       [5.4, 3.7, 1.5, 0.2],\n",
       "       [4.8, 3.4, 1.6, 0.2],\n",
       "       [4.8, 3. , 1.4, 0.1],\n",
       "       [4.3, 3. , 1.1, 0.1],\n",
       "       [5.8, 4. , 1.2, 0.2],\n",
       "       [5.7, 4.4, 1.5, 0.4],\n",
       "       [5.4, 3.9, 1.3, 0.4],\n",
       "       [5.1, 3.5, 1.4, 0.3],\n",
       "       [5.7, 3.8, 1.7, 0.3],\n",
       "       [5.1, 3.8, 1.5, 0.3],\n",
       "       [5.4, 3.4, 1.7, 0.2],\n",
       "       [5.1, 3.7, 1.5, 0.4],\n",
       "       [4.6, 3.6, 1. , 0.2],\n",
       "       [5.1, 3.3, 1.7, 0.5],\n",
       "       [4.8, 3.4, 1.9, 0.2],\n",
       "       [5. , 3. , 1.6, 0.2],\n",
       "       [5. , 3.4, 1.6, 0.4],\n",
       "       [5.2, 3.5, 1.5, 0.2],\n",
       "       [5.2, 3.4, 1.4, 0.2],\n",
       "       [4.7, 3.2, 1.6, 0.2],\n",
       "       [4.8, 3.1, 1.6, 0.2],\n",
       "       [5.4, 3.4, 1.5, 0.4],\n",
       "       [5.2, 4.1, 1.5, 0.1],\n",
       "       [5.5, 4.2, 1.4, 0.2],\n",
       "       [4.9, 3.1, 1.5, 0.2],\n",
       "       [5. , 3.2, 1.2, 0.2],\n",
       "       [5.5, 3.5, 1.3, 0.2],\n",
       "       [4.9, 3.6, 1.4, 0.1],\n",
       "       [4.4, 3. , 1.3, 0.2],\n",
       "       [5.1, 3.4, 1.5, 0.2],\n",
       "       [5. , 3.5, 1.3, 0.3],\n",
       "       [4.5, 2.3, 1.3, 0.3],\n",
       "       [4.4, 3.2, 1.3, 0.2],\n",
       "       [5. , 3.5, 1.6, 0.6],\n",
       "       [5.1, 3.8, 1.9, 0.4],\n",
       "       [4.8, 3. , 1.4, 0.3],\n",
       "       [5.1, 3.8, 1.6, 0.2],\n",
       "       [4.6, 3.2, 1.4, 0.2],\n",
       "       [5.3, 3.7, 1.5, 0.2],\n",
       "       [5. , 3.3, 1.4, 0.2],\n",
       "       [7. , 3.2, 4.7, 1.4],\n",
       "       [6.4, 3.2, 4.5, 1.5],\n",
       "       [6.9, 3.1, 4.9, 1.5],\n",
       "       [5.5, 2.3, 4. , 1.3],\n",
       "       [6.5, 2.8, 4.6, 1.5],\n",
       "       [5.7, 2.8, 4.5, 1.3],\n",
       "       [6.3, 3.3, 4.7, 1.6],\n",
       "       [4.9, 2.4, 3.3, 1. ],\n",
       "       [6.6, 2.9, 4.6, 1.3],\n",
       "       [5.2, 2.7, 3.9, 1.4],\n",
       "       [5. , 2. , 3.5, 1. ],\n",
       "       [5.9, 3. , 4.2, 1.5],\n",
       "       [6. , 2.2, 4. , 1. ],\n",
       "       [6.1, 2.9, 4.7, 1.4],\n",
       "       [5.6, 2.9, 3.6, 1.3],\n",
       "       [6.7, 3.1, 4.4, 1.4],\n",
       "       [5.6, 3. , 4.5, 1.5],\n",
       "       [5.8, 2.7, 4.1, 1. ],\n",
       "       [6.2, 2.2, 4.5, 1.5],\n",
       "       [5.6, 2.5, 3.9, 1.1],\n",
       "       [5.9, 3.2, 4.8, 1.8],\n",
       "       [6.1, 2.8, 4. , 1.3],\n",
       "       [6.3, 2.5, 4.9, 1.5],\n",
       "       [6.1, 2.8, 4.7, 1.2],\n",
       "       [6.4, 2.9, 4.3, 1.3],\n",
       "       [6.6, 3. , 4.4, 1.4],\n",
       "       [6.8, 2.8, 4.8, 1.4],\n",
       "       [6.7, 3. , 5. , 1.7],\n",
       "       [6. , 2.9, 4.5, 1.5],\n",
       "       [5.7, 2.6, 3.5, 1. ],\n",
       "       [5.5, 2.4, 3.8, 1.1],\n",
       "       [5.5, 2.4, 3.7, 1. ],\n",
       "       [5.8, 2.7, 3.9, 1.2],\n",
       "       [6. , 2.7, 5.1, 1.6],\n",
       "       [5.4, 3. , 4.5, 1.5],\n",
       "       [6. , 3.4, 4.5, 1.6],\n",
       "       [6.7, 3.1, 4.7, 1.5],\n",
       "       [6.3, 2.3, 4.4, 1.3],\n",
       "       [5.6, 3. , 4.1, 1.3],\n",
       "       [5.5, 2.5, 4. , 1.3],\n",
       "       [5.5, 2.6, 4.4, 1.2],\n",
       "       [6.1, 3. , 4.6, 1.4],\n",
       "       [5.8, 2.6, 4. , 1.2],\n",
       "       [5. , 2.3, 3.3, 1. ],\n",
       "       [5.6, 2.7, 4.2, 1.3],\n",
       "       [5.7, 3. , 4.2, 1.2],\n",
       "       [5.7, 2.9, 4.2, 1.3],\n",
       "       [6.2, 2.9, 4.3, 1.3],\n",
       "       [5.1, 2.5, 3. , 1.1],\n",
       "       [5.7, 2.8, 4.1, 1.3],\n",
       "       [6.3, 3.3, 6. , 2.5],\n",
       "       [5.8, 2.7, 5.1, 1.9],\n",
       "       [7.1, 3. , 5.9, 2.1],\n",
       "       [6.3, 2.9, 5.6, 1.8],\n",
       "       [6.5, 3. , 5.8, 2.2],\n",
       "       [7.6, 3. , 6.6, 2.1],\n",
       "       [4.9, 2.5, 4.5, 1.7],\n",
       "       [7.3, 2.9, 6.3, 1.8],\n",
       "       [6.7, 2.5, 5.8, 1.8],\n",
       "       [7.2, 3.6, 6.1, 2.5],\n",
       "       [6.5, 3.2, 5.1, 2. ],\n",
       "       [6.4, 2.7, 5.3, 1.9],\n",
       "       [6.8, 3. , 5.5, 2.1],\n",
       "       [5.7, 2.5, 5. , 2. ],\n",
       "       [5.8, 2.8, 5.1, 2.4],\n",
       "       [6.4, 3.2, 5.3, 2.3],\n",
       "       [6.5, 3. , 5.5, 1.8],\n",
       "       [7.7, 3.8, 6.7, 2.2],\n",
       "       [7.7, 2.6, 6.9, 2.3],\n",
       "       [6. , 2.2, 5. , 1.5],\n",
       "       [6.9, 3.2, 5.7, 2.3],\n",
       "       [5.6, 2.8, 4.9, 2. ],\n",
       "       [7.7, 2.8, 6.7, 2. ],\n",
       "       [6.3, 2.7, 4.9, 1.8],\n",
       "       [6.7, 3.3, 5.7, 2.1],\n",
       "       [7.2, 3.2, 6. , 1.8],\n",
       "       [6.2, 2.8, 4.8, 1.8],\n",
       "       [6.1, 3. , 4.9, 1.8],\n",
       "       [6.4, 2.8, 5.6, 2.1],\n",
       "       [7.2, 3. , 5.8, 1.6],\n",
       "       [7.4, 2.8, 6.1, 1.9],\n",
       "       [7.9, 3.8, 6.4, 2. ],\n",
       "       [6.4, 2.8, 5.6, 2.2],\n",
       "       [6.3, 2.8, 5.1, 1.5],\n",
       "       [6.1, 2.6, 5.6, 1.4],\n",
       "       [7.7, 3. , 6.1, 2.3],\n",
       "       [6.3, 3.4, 5.6, 2.4],\n",
       "       [6.4, 3.1, 5.5, 1.8],\n",
       "       [6. , 3. , 4.8, 1.8],\n",
       "       [6.9, 3.1, 5.4, 2.1],\n",
       "       [6.7, 3.1, 5.6, 2.4],\n",
       "       [6.9, 3.1, 5.1, 2.3],\n",
       "       [5.8, 2.7, 5.1, 1.9],\n",
       "       [6.8, 3.2, 5.9, 2.3],\n",
       "       [6.7, 3.3, 5.7, 2.5],\n",
       "       [6.7, 3. , 5.2, 2.3],\n",
       "       [6.3, 2.5, 5. , 1.9],\n",
       "       [6.5, 3. , 5.2, 2. ],\n",
       "       [6.2, 3.4, 5.4, 2.3],\n",
       "       [5.9, 3. , 5.1, 1.8]])"
      ]
     },
     "execution_count": 4,
     "metadata": {},
     "output_type": "execute_result"
    }
   ],
   "source": [
    "# Data, input variables\n",
    "iris.data"
   ]
  },
  {
   "cell_type": "code",
   "execution_count": 5,
   "metadata": {
    "colab": {
     "base_uri": "https://localhost:8080/",
     "height": 141
    },
    "id": "E-buEmlGW_4X",
    "outputId": "47932c54-992e-4563-9ad7-8ddf2b5cc404"
   },
   "outputs": [
    {
     "data": {
      "text/plain": [
       "array([0, 0, 0, 0, 0, 0, 0, 0, 0, 0, 0, 0, 0, 0, 0, 0, 0, 0, 0, 0, 0, 0,\n",
       "       0, 0, 0, 0, 0, 0, 0, 0, 0, 0, 0, 0, 0, 0, 0, 0, 0, 0, 0, 0, 0, 0,\n",
       "       0, 0, 0, 0, 0, 0, 1, 1, 1, 1, 1, 1, 1, 1, 1, 1, 1, 1, 1, 1, 1, 1,\n",
       "       1, 1, 1, 1, 1, 1, 1, 1, 1, 1, 1, 1, 1, 1, 1, 1, 1, 1, 1, 1, 1, 1,\n",
       "       1, 1, 1, 1, 1, 1, 1, 1, 1, 1, 1, 1, 2, 2, 2, 2, 2, 2, 2, 2, 2, 2,\n",
       "       2, 2, 2, 2, 2, 2, 2, 2, 2, 2, 2, 2, 2, 2, 2, 2, 2, 2, 2, 2, 2, 2,\n",
       "       2, 2, 2, 2, 2, 2, 2, 2, 2, 2, 2, 2, 2, 2, 2, 2, 2, 2])"
      ]
     },
     "execution_count": 5,
     "metadata": {},
     "output_type": "execute_result"
    }
   ],
   "source": [
    "# Target, output variable\n",
    "iris.target"
   ]
  },
  {
   "cell_type": "code",
   "execution_count": 6,
   "metadata": {
    "colab": {
     "base_uri": "https://localhost:8080/",
     "height": 35
    },
    "id": "nhcBbfFTXBoR",
    "outputId": "ea9d27db-948a-4fd4-b1f4-0384a7336920"
   },
   "outputs": [
    {
     "data": {
      "text/plain": [
       "(150, 4)"
      ]
     },
     "execution_count": 6,
     "metadata": {},
     "output_type": "execute_result"
    }
   ],
   "source": [
    "# Input shape\n",
    "iris.data.shape"
   ]
  },
  {
   "cell_type": "code",
   "execution_count": 7,
   "metadata": {
    "colab": {
     "base_uri": "https://localhost:8080/",
     "height": 35
    },
    "id": "haQYxiu1XD2u",
    "outputId": "046b6d95-17c6-4421-8d3e-df88df7391b2"
   },
   "outputs": [
    {
     "data": {
      "text/plain": [
       "(150,)"
      ]
     },
     "execution_count": 7,
     "metadata": {},
     "output_type": "execute_result"
    }
   ],
   "source": [
    "# Output shape\n",
    "iris.target.shape"
   ]
  },
  {
   "cell_type": "code",
   "execution_count": 8,
   "metadata": {
    "colab": {
     "base_uri": "https://localhost:8080/",
     "height": 265
    },
    "id": "KttXVMGTXHpW",
    "outputId": "1c3c63dd-8ee6-470c-d12f-d11d9cdd3b2d"
   },
   "outputs": [
    {
     "data": {
      "image/png": "[encoded data removed]",
      "text/plain": [
       "<Figure size 432x288 with 1 Axes>"
      ]
     },
     "metadata": {
      "needs_background": "light"
     },
     "output_type": "display_data"
    }
   ],
   "source": [
    "# Plot histogram for the first dimension\n",
    "plt.hist(iris.data[:,0],21);"
   ]
  },
  {
   "cell_type": "code",
   "execution_count": 9,
   "metadata": {
    "colab": {
     "base_uri": "https://localhost:8080/",
     "height": 265
    },
    "id": "o0XvzxdAXmmQ",
    "outputId": "72202acc-760a-4f21-c465-c6ec205c4c96"
   },
   "outputs": [
    {
     "data": {
      "image/png": "[encoded data removed]",
      "text/plain": [
       "<Figure size 432x288 with 1 Axes>"
      ]
     },
     "metadata": {
      "needs_background": "light"
     },
     "output_type": "display_data"
    }
   ],
   "source": [
    "# Plot histogram for the second dimension\n",
    "plt.hist(iris.data[:,1],21);"
   ]
  },
  {
   "cell_type": "markdown",
   "metadata": {
    "id": "A5KbQy5DX45H"
   },
   "source": [
    "### Normalization of the first variable, implement it yourself!"
   ]
  },
  {
   "cell_type": "code",
   "execution_count": 10,
   "metadata": {
    "id": "kViJSg_5X78-"
   },
   "outputs": [],
   "source": [
    "X = iris.data\n",
    "X_min = np.min(X[:,0])\n",
    "X_max = np.max(X[:,0])\n",
    "X_normalized = (X[:,0] - X_min) / (X_max - X_min)"
   ]
  },
  {
   "cell_type": "code",
   "execution_count": 11,
   "metadata": {},
   "outputs": [
    {
     "data": {
      "image/png": "[encoded data removed]",
      "text/plain": [
       "<Figure size 432x288 with 1 Axes>"
      ]
     },
     "metadata": {
      "needs_background": "light"
     },
     "output_type": "display_data"
    }
   ],
   "source": [
    "# Unnormalized histogram\n",
    "plt.hist(X[:,0],21);"
   ]
  },
  {
   "cell_type": "code",
   "execution_count": 12,
   "metadata": {
    "scrolled": true
   },
   "outputs": [
    {
     "data": {
      "image/png": "[encoded data removed]",
      "text/plain": [
       "<Figure size 432x288 with 1 Axes>"
      ]
     },
     "metadata": {
      "needs_background": "light"
     },
     "output_type": "display_data"
    }
   ],
   "source": [
    "# Normalized histogram\n",
    "plt.hist(X_normalized,21);"
   ]
  },
  {
   "cell_type": "markdown",
   "metadata": {
    "id": "iKOHqKXpv13Y"
   },
   "source": [
    "#### Normalization without subtracting the minimum value"
   ]
  },
  {
   "cell_type": "code",
   "execution_count": 13,
   "metadata": {
    "id": "UcoHt59XX_Rf"
   },
   "outputs": [],
   "source": [
    "X_n = X[:,0] / np.max(X[:,0])"
   ]
  },
  {
   "cell_type": "code",
   "execution_count": 14,
   "metadata": {
    "colab": {
     "base_uri": "https://localhost:8080/",
     "height": 265
    },
    "id": "GTwqJ1r6YGTz",
    "outputId": "4ec60106-a9e4-401d-e2e1-ebc07e1942c2",
    "scrolled": true
   },
   "outputs": [
    {
     "data": {
      "image/png": "[encoded data removed]",
      "text/plain": [
       "<Figure size 432x288 with 1 Axes>"
      ]
     },
     "metadata": {
      "needs_background": "light"
     },
     "output_type": "display_data"
    }
   ],
   "source": [
    "# Unnormalized histogram\n",
    "plt.hist(X[:,0],21);"
   ]
  },
  {
   "cell_type": "code",
   "execution_count": 15,
   "metadata": {
    "colab": {
     "base_uri": "https://localhost:8080/",
     "height": 265
    },
    "id": "XncSdCNMYWBY",
    "outputId": "c61435c3-3e8c-4391-ab18-e98f4a3d2631",
    "scrolled": true
   },
   "outputs": [
    {
     "data": {
      "image/png": "[encoded data removed]",
      "text/plain": [
       "<Figure size 432x288 with 1 Axes>"
      ]
     },
     "metadata": {
      "needs_background": "light"
     },
     "output_type": "display_data"
    }
   ],
   "source": [
    "# Normalized histogram\n",
    "plt.hist(X_n,21);"
   ]
  },
  {
   "cell_type": "code",
   "execution_count": 16,
   "metadata": {
    "colab": {
     "base_uri": "https://localhost:8080/",
     "height": 281
    },
    "id": "NGtu0iXYcuJc",
    "outputId": "81fd1fe7-eaa3-43c8-b710-9de4c230900e"
   },
   "outputs": [
    {
     "data": {
      "image/png": "[encoded data removed]",
      "text/plain": [
       "<Figure size 1080x288 with 3 Axes>"
      ]
     },
     "metadata": {
      "needs_background": "light"
     },
     "output_type": "display_data"
    }
   ],
   "source": [
    "# Using subplot...\n",
    "plt.figure(figsize=(15,4))\n",
    "plt.subplot(1,3,1), plt.hist(X[:,0],21), plt.title('Unnormalized')\n",
    "plt.subplot(1,3,2), plt.hist(X_n,21), plt.title('Normalization without subtracting')\n",
    "plt.subplot(1,3,3), plt.hist(X_normalized,21), plt.title('Normalized');"
   ]
  },
  {
   "cell_type": "markdown",
   "metadata": {
    "id": "CMn6hoc41yGP"
   },
   "source": [
    "#### Exercise: \n",
    "Repeat the procedure for the variable in the second dimension, i.e., X\\[:,1\\]"
   ]
  },
  {
   "cell_type": "markdown",
   "metadata": {
    "id": "iKOHqKXpv13Y"
   },
   "source": [
    "#### Normalization without subtracting the minimum value"
   ]
  },
  {
   "cell_type": "code",
   "execution_count": 17,
   "metadata": {
    "id": "UcoHt59XX_Rf"
   },
   "outputs": [],
   "source": [
    "X_n_d1 = X[:,1] / np.max(X[:,1])"
   ]
  },
  {
   "cell_type": "code",
   "execution_count": 18,
   "metadata": {
    "colab": {
     "base_uri": "https://localhost:8080/",
     "height": 265
    },
    "id": "GTwqJ1r6YGTz",
    "outputId": "4ec60106-a9e4-401d-e2e1-ebc07e1942c2",
    "scrolled": true
   },
   "outputs": [
    {
     "data": {
      "image/png": "[encoded data removed]",
      "text/plain": [
       "<Figure size 432x288 with 1 Axes>"
      ]
     },
     "metadata": {
      "needs_background": "light"
     },
     "output_type": "display_data"
    }
   ],
   "source": [
    "# Unnormalized histogram\n",
    "plt.hist(X[:,1],21);"
   ]
  },
  {
   "cell_type": "code",
   "execution_count": 19,
   "metadata": {
    "colab": {
     "base_uri": "https://localhost:8080/",
     "height": 265
    },
    "id": "XncSdCNMYWBY",
    "outputId": "c61435c3-3e8c-4391-ab18-e98f4a3d2631",
    "scrolled": true
   },
   "outputs": [
    {
     "data": {
      "image/png": "[encoded data removed]",
      "text/plain": [
       "<Figure size 432x288 with 1 Axes>"
      ]
     },
     "metadata": {
      "needs_background": "light"
     },
     "output_type": "display_data"
    }
   ],
   "source": [
    "# Normalized histogram\n",
    "plt.hist(X_n_d1,21);"
   ]
  },
  {
   "cell_type": "markdown",
   "metadata": {
    "id": "Kcj8A0P0v7dh"
   },
   "source": [
    "#### Normalization by subtracting the minimum value"
   ]
  },
  {
   "cell_type": "code",
   "execution_count": 20,
   "metadata": {
    "id": "wDZVdXBNYe33"
   },
   "outputs": [],
   "source": [
    "X_n = (X[:,0] - np.min(X[:,0])) / (np.max(X[:,0]) - np.min(X[:,0]))"
   ]
  },
  {
   "cell_type": "code",
   "execution_count": 21,
   "metadata": {
    "colab": {
     "base_uri": "https://localhost:8080/",
     "height": 281
    },
    "id": "34ez-nkfYe4X",
    "outputId": "c0628cfb-6036-4c26-bf89-1929192b33bd"
   },
   "outputs": [
    {
     "data": {
      "image/png": "[encoded data removed]",
      "text/plain": [
       "<Figure size 720x288 with 2 Axes>"
      ]
     },
     "metadata": {
      "needs_background": "light"
     },
     "output_type": "display_data"
    }
   ],
   "source": [
    "plt.figure(figsize=(10,4))\n",
    "plt.subplot(1,2,1), plt.hist(X[:,0],21), plt.title('Unnormalized')\n",
    "plt.subplot(1,2,2), plt.hist(X_n,21), plt.title('Normalized');"
   ]
  },
  {
   "cell_type": "markdown",
   "metadata": {
    "id": "SPsf79I-1wuw"
   },
   "source": [
    "#### Exercice: \n",
    "Repeat the procedure for the variable in the second dimension, i.e., X\\[:,1\\]"
   ]
  },
  {
   "cell_type": "code",
   "execution_count": 22,
   "metadata": {
    "id": "kViJSg_5X78-"
   },
   "outputs": [],
   "source": [
    "X_min_d1 = np.min(X[:,1])\n",
    "X_max_d1 = np.max(X[:,1])\n",
    "X_normalized_d1 = (X[:,1] - X_min_d1) / (X_max_d1 - X_min_d1)"
   ]
  },
  {
   "cell_type": "code",
   "execution_count": 23,
   "metadata": {},
   "outputs": [
    {
     "data": {
      "image/png": "[encoded data removed]",
      "text/plain": [
       "<Figure size 432x288 with 1 Axes>"
      ]
     },
     "metadata": {
      "needs_background": "light"
     },
     "output_type": "display_data"
    }
   ],
   "source": [
    "# Unnormalized histogram\n",
    "plt.hist(X[:,1],21);"
   ]
  },
  {
   "cell_type": "code",
   "execution_count": 24,
   "metadata": {
    "scrolled": true
   },
   "outputs": [
    {
     "data": {
      "image/png": "[encoded data removed]",
      "text/plain": [
       "<Figure size 432x288 with 1 Axes>"
      ]
     },
     "metadata": {
      "needs_background": "light"
     },
     "output_type": "display_data"
    }
   ],
   "source": [
    "# Normalized histogram\n",
    "plt.hist(X_normalized_d1,21);"
   ]
  },
  {
   "cell_type": "markdown",
   "metadata": {
    "id": "HO-j8e-Tv_sx"
   },
   "source": [
    "#### Standardization"
   ]
  },
  {
   "cell_type": "code",
   "execution_count": 25,
   "metadata": {
    "id": "FyT0hhCaYxN-"
   },
   "outputs": [],
   "source": [
    "X_n = (X[:,0] - np.mean(X[:,0])) / (np.std(X[:,0]))"
   ]
  },
  {
   "cell_type": "code",
   "execution_count": 26,
   "metadata": {
    "colab": {
     "base_uri": "https://localhost:8080/",
     "height": 281
    },
    "id": "W64zzzw-YxOp",
    "outputId": "340b066b-70c0-4b0f-bd52-f7582b0ba038",
    "scrolled": true
   },
   "outputs": [
    {
     "data": {
      "image/png": "[encoded data removed]",
      "text/plain": [
       "<Figure size 720x288 with 2 Axes>"
      ]
     },
     "metadata": {
      "needs_background": "light"
     },
     "output_type": "display_data"
    }
   ],
   "source": [
    "plt.figure(figsize=(10,4))\n",
    "plt.subplot(1,2,1), plt.hist(X[:,0],21), plt.title('Unstandardized')\n",
    "plt.subplot(1,2,2), plt.hist(X_n,21), plt.title('Standardized');"
   ]
  },
  {
   "cell_type": "markdown",
   "metadata": {
    "id": "S9Ew9Wwu1oZv"
   },
   "source": [
    "#### Exercice: \n",
    "Repeat the procedure for the variable in the second dimension, i.e., X\\[:,1\\]"
   ]
  },
  {
   "cell_type": "code",
   "execution_count": 27,
   "metadata": {
    "id": "FyT0hhCaYxN-"
   },
   "outputs": [],
   "source": [
    "X_n_d1 = (X[:,1] - np.mean(X[:,1])) / (np.std(X[:,1]))"
   ]
  },
  {
   "cell_type": "code",
   "execution_count": 28,
   "metadata": {
    "colab": {
     "base_uri": "https://localhost:8080/",
     "height": 281
    },
    "id": "W64zzzw-YxOp",
    "outputId": "340b066b-70c0-4b0f-bd52-f7582b0ba038",
    "scrolled": true
   },
   "outputs": [
    {
     "data": {
      "image/png": "[encoded data removed]",
      "text/plain": [
       "<Figure size 720x288 with 2 Axes>"
      ]
     },
     "metadata": {
      "needs_background": "light"
     },
     "output_type": "display_data"
    }
   ],
   "source": [
    "plt.figure(figsize=(10,4))\n",
    "plt.subplot(1,2,1), plt.hist(X[:,0],21), plt.title('Unstandardized')\n",
    "plt.subplot(1,2,2), plt.hist(X_n_d1,21), plt.title('Standardized');"
   ]
  },
  {
   "cell_type": "markdown",
   "metadata": {
    "id": "9P_Hy6aa2sEW"
   },
   "source": [
    "#### Exercise:\n",
    "\n",
    "Explain the difference between the 3 methods applied above."
   ]
  },
  {
   "cell_type": "markdown",
   "metadata": {},
   "source": [
    "#### Standarization\n",
    "- Process: To standardize a variable, you subtract the mean of the variable from each data point and then divide the result by the standard deviation of the variable.\n",
    "- Standardization centers the data around zero and scales it so that it has unit variance. This makes it suitable for algorithms that are sensitive to the scale of the data, such as many machine learning algorithms like support vector machines and k-means clustering\n",
    "\n",
    "#### Normalization by subtracting the minimum value\n",
    "- Process: To normalize a variable using Min-Max scaling, you subtract the minimum value of the variable from each data point and then divide the result by the range (the difference between the maximum and minimum values) of the variable.\n",
    "- Min-Max scaling scales the data to a specific range, making it suitable for algorithms that require input data to fall within a certain range, like neural networks or algorithms that use distance-based metrics.\n",
    "\n",
    "#### Normalization without subtracting the minimum value\n",
    "- Process: To perform this type of normalization, you only divide each data point by the range of the variable, without subtracting the minimum value.\n",
    "- This method scales the data to a specified range but maintains the original distribution's location\n",
    "\n"
   ]
  },
  {
   "cell_type": "markdown",
   "metadata": {
    "id": "AAYhoUZ5ZAAd"
   },
   "source": [
    "### Normalization using Sklearn\n",
    "\n",
    "https://scikit-learn.org/stable/modules/preprocessing.html"
   ]
  },
  {
   "cell_type": "code",
   "execution_count": 29,
   "metadata": {
    "id": "LTnjLZq7ZYUJ"
   },
   "outputs": [],
   "source": [
    "from sklearn import preprocessing"
   ]
  },
  {
   "cell_type": "markdown",
   "metadata": {
    "id": "hfrgWaTMwRtO"
   },
   "source": [
    "#### Standardization"
   ]
  },
  {
   "cell_type": "code",
   "execution_count": 30,
   "metadata": {
    "id": "VUXgTNyzZC4P"
   },
   "outputs": [],
   "source": [
    "# Usamos la función de estandarización del sklearn\n",
    "X_n = preprocessing.scale(X[:,0])"
   ]
  },
  {
   "cell_type": "code",
   "execution_count": 31,
   "metadata": {
    "colab": {
     "base_uri": "https://localhost:8080/",
     "height": 281
    },
    "id": "DV7tkQuBZgIL",
    "outputId": "596dd2e9-c8fa-4d33-e8cc-183ea0a2deda"
   },
   "outputs": [
    {
     "data": {
      "image/png": "[encoded data removed]",
      "text/plain": [
       "<Figure size 720x288 with 2 Axes>"
      ]
     },
     "metadata": {
      "needs_background": "light"
     },
     "output_type": "display_data"
    }
   ],
   "source": [
    "plt.figure(figsize=(10,4))\n",
    "plt.subplot(1,2,1), plt.hist(X[:,0],21), plt.title('Unstandardized')\n",
    "plt.subplot(1,2,2), plt.hist(X_n,21), plt.title('Standardized');"
   ]
  },
  {
   "cell_type": "markdown",
   "metadata": {
    "id": "qv98pKpsw2hS"
   },
   "source": [
    "#### Using normalization models in Sklearn"
   ]
  },
  {
   "cell_type": "code",
   "execution_count": 32,
   "metadata": {
    "colab": {
     "base_uri": "https://localhost:8080/",
     "height": 35
    },
    "id": "XksUEQH8actO",
    "outputId": "217c0cd7-b3fc-48f9-cee3-927aa45ec178"
   },
   "outputs": [
    {
     "data": {
      "text/plain": [
       "(150,)"
      ]
     },
     "execution_count": 32,
     "metadata": {},
     "output_type": "execute_result"
    }
   ],
   "source": [
    "X[:,0].shape"
   ]
  },
  {
   "cell_type": "code",
   "execution_count": 33,
   "metadata": {
    "id": "1yqpK3wEZicG"
   },
   "outputs": [],
   "source": [
    "# Create and fit the standardization function\n",
    "scaler = preprocessing.StandardScaler().fit(X)"
   ]
  },
  {
   "cell_type": "code",
   "execution_count": 34,
   "metadata": {
    "colab": {
     "base_uri": "https://localhost:8080/",
     "height": 53
    },
    "id": "b4U645CiaLob",
    "outputId": "ed8443c9-cd00-45e4-b609-a47b6b7d7205"
   },
   "outputs": [
    {
     "name": "stdout",
     "output_type": "stream",
     "text": [
      "[5.84333333 3.05733333 3.758      1.19933333]\n",
      "[0.82530129 0.43441097 1.75940407 0.75969263]\n"
     ]
    }
   ],
   "source": [
    "# The function stores information about the original data\n",
    "\n",
    "# Mean\n",
    "print(scaler.mean_)\n",
    "\n",
    "# Standard deviation\n",
    "print(scaler.scale_)"
   ]
  },
  {
   "cell_type": "code",
   "execution_count": 35,
   "metadata": {
    "id": "aI3dxAz7xC_b"
   },
   "outputs": [],
   "source": [
    "# To standardize data, we only have to apply the fitted function\n",
    "X_n = scaler.transform(X)"
   ]
  },
  {
   "cell_type": "code",
   "execution_count": 36,
   "metadata": {
    "colab": {
     "base_uri": "https://localhost:8080/",
     "height": 281
    },
    "id": "2PkW31Lxx24f",
    "outputId": "a07c647a-dbe9-417a-e442-416e6deba25c"
   },
   "outputs": [
    {
     "data": {
      "image/png": "[encoded data removed]",
      "text/plain": [
       "<Figure size 720x288 with 2 Axes>"
      ]
     },
     "metadata": {
      "needs_background": "light"
     },
     "output_type": "display_data"
    }
   ],
   "source": [
    "# Visualize the first dimension standardized\n",
    "plt.figure(figsize=(10,4))\n",
    "plt.subplot(1,2,1), plt.hist(X[:,0],21), plt.title('Unstandardized')\n",
    "plt.subplot(1,2,2), plt.hist(X_n[:,0],21), plt.title('Standardized');"
   ]
  },
  {
   "cell_type": "code",
   "execution_count": 37,
   "metadata": {
    "colab": {
     "base_uri": "https://localhost:8080/",
     "height": 281
    },
    "id": "l45Fui303gPs",
    "outputId": "0cc640ef-ec10-4c21-814d-6d1b365f1e45",
    "scrolled": false
   },
   "outputs": [
    {
     "data": {
      "image/png": "[encoded data removed]",
      "text/plain": [
       "<Figure size 720x288 with 2 Axes>"
      ]
     },
     "metadata": {
      "needs_background": "light"
     },
     "output_type": "display_data"
    }
   ],
   "source": [
    "# It should be noted that all the dimensions have been standardized now\n",
    "plt.figure(figsize=(10,4))\n",
    "plt.subplot(1,2,1), plt.hist(X,21), plt.title('Unstandardized')\n",
    "plt.subplot(1,2,2), plt.hist(X_n,21), plt.title('Standardized');"
   ]
  },
  {
   "cell_type": "markdown",
   "metadata": {
    "id": "E-V7lzeCyEO9"
   },
   "source": [
    "#### Exercise: \n",
    "There are other normalization models available in Sklearn, try them out. What kind of normalization do they apply?\n",
    "- `preprocessing.MinMaxScaler()`\n",
    "- `preprocessing.MaxAbsScaler()`"
   ]
  },
  {
   "cell_type": "code",
   "execution_count": 38,
   "metadata": {
    "id": "1yqpK3wEZicG"
   },
   "outputs": [],
   "source": [
    "# Create and fit the standardization function\n",
    "scaler_min_max = preprocessing.MinMaxScaler().fit(X)\n",
    "scaler_max_abs = preprocessing.MaxAbsScaler().fit(X)"
   ]
  },
  {
   "cell_type": "code",
   "execution_count": 39,
   "metadata": {
    "colab": {
     "base_uri": "https://localhost:8080/",
     "height": 53
    },
    "id": "b4U645CiaLob",
    "outputId": "ed8443c9-cd00-45e4-b609-a47b6b7d7205"
   },
   "outputs": [
    {
     "name": "stdout",
     "output_type": "stream",
     "text": [
      "[0.27777778 0.41666667 0.16949153 0.41666667]\n",
      "[7.9 4.4 6.9 2.5]\n"
     ]
    }
   ],
   "source": [
    "# The function stores information about the original data\n",
    "\n",
    "# Standard deviation\n",
    "print(scaler_min_max.scale_)\n",
    "print(scaler_max_abs.scale_)"
   ]
  },
  {
   "cell_type": "code",
   "execution_count": 40,
   "metadata": {
    "id": "aI3dxAz7xC_b"
   },
   "outputs": [],
   "source": [
    "# To standardize data, we only have to apply the fitted function\n",
    "X_n_min_max = scaler_min_max.transform(X)\n",
    "X_n_max_abs = scaler_max_abs.transform(X)"
   ]
  },
  {
   "cell_type": "code",
   "execution_count": 41,
   "metadata": {
    "colab": {
     "base_uri": "https://localhost:8080/",
     "height": 281
    },
    "id": "l45Fui303gPs",
    "outputId": "0cc640ef-ec10-4c21-814d-6d1b365f1e45",
    "scrolled": false
   },
   "outputs": [
    {
     "data": {
      "image/png": "[encoded data removed]",
      "text/plain": [
       "<Figure size 1080x288 with 3 Axes>"
      ]
     },
     "metadata": {
      "needs_background": "light"
     },
     "output_type": "display_data"
    }
   ],
   "source": [
    "# It should be noted that all the dimensions have been standardized now\n",
    "plt.figure(figsize=(15,4))\n",
    "plt.subplot(1,3,1), plt.hist(X,21), plt.title('Unstandardized')\n",
    "plt.subplot(1,3,2), plt.hist(X_n_min_max,21), plt.title('Standardized Min Max')\n",
    "plt.subplot(1,3,3), plt.hist(X_n_max_abs,21), plt.title('Standardized Max Abs');"
   ]
  },
  {
   "cell_type": "markdown",
   "metadata": {
    "id": "14grcLsczPMB"
   },
   "source": [
    "#### Exercise:\n",
    "The use of normalization models allow normalizing any dataset/subset by using exactly the same transformation. This is useful to normalize training, validation, and data subsets in the same way, only by considering the training data, as usual.\n",
    "\n",
    "Divide the database into train/test splits, train the normalization model using the training subset, and normalize both training and validation subsets using this model. Hint: Use the `train_test_split` function in sklearn."
   ]
  },
  {
   "cell_type": "code",
   "execution_count": 42,
   "metadata": {
    "colab": {
     "base_uri": "https://localhost:8080/",
     "height": 281
    },
    "id": "pBlYzqgMyV2e",
    "outputId": "2aaa6a6b-1aef-42d6-d74b-00a51aae5a24"
   },
   "outputs": [],
   "source": [
    "from sklearn.datasets import make_classification\n",
    "from sklearn.linear_model import LogisticRegression\n",
    "from sklearn.model_selection import train_test_split\n",
    "from sklearn.pipeline import make_pipeline\n",
    "from sklearn.preprocessing import StandardScaler\n",
    "\n"
   ]
  },
  {
   "cell_type": "code",
   "execution_count": 43,
   "metadata": {},
   "outputs": [
    {
     "data": {
      "text/plain": [
       "1.0"
      ]
     },
     "execution_count": 43,
     "metadata": {},
     "output_type": "execute_result"
    }
   ],
   "source": [
    "X = iris.data\n",
    "y = iris.target\n",
    "X_train, X_test, y_train, y_test = train_test_split(X, y, random_state=42)\n",
    "pipe = make_pipeline(StandardScaler(), LogisticRegression())\n",
    "pipe.fit(X_train, y_train)  # apply scaling on training data\n",
    "\n",
    "pipe.score(X_test, y_test)  # apply scaling on testing data, without leaking training data."
   ]
  },
  {
   "cell_type": "markdown",
   "metadata": {
    "id": "Y3aAjqLT0-Ox"
   },
   "source": [
    "## 1.2 Data Coding"
   ]
  },
  {
   "cell_type": "markdown",
   "metadata": {
    "id": "0VLO3uev2mIv"
   },
   "source": [
    "### Ordinal Coding\n",
    "This coding technique maps each class to an integer number."
   ]
  },
  {
   "cell_type": "code",
   "execution_count": 44,
   "metadata": {
    "colab": {
     "base_uri": "https://localhost:8080/",
     "height": 35
    },
    "id": "p6vJ_USt0i1a",
    "outputId": "d53d1c61-1e4e-441a-ee62-1dfe1b462cc5"
   },
   "outputs": [
    {
     "data": {
      "text/plain": [
       "array([[2.]])"
      ]
     },
     "execution_count": 44,
     "metadata": {},
     "output_type": "execute_result"
    }
   ],
   "source": [
    "from sklearn import preprocessing\n",
    "\n",
    "enc = preprocessing.OrdinalEncoder()\n",
    "\n",
    "X = [['Class0'],['Class_1'],['Class_2']]\n",
    "\n",
    "enc.fit(X)\n",
    "\n",
    "enc.transform([['Class_2']])"
   ]
  },
  {
   "cell_type": "code",
   "execution_count": 45,
   "metadata": {
    "colab": {
     "base_uri": "https://localhost:8080/",
     "height": 35
    },
    "id": "T3aESt-u3K28",
    "outputId": "3504d905-69f6-4bd6-fe31-54f925a9fd3a"
   },
   "outputs": [
    {
     "data": {
      "text/plain": [
       "array([[0., 1., 1.]])"
      ]
     },
     "execution_count": 45,
     "metadata": {},
     "output_type": "execute_result"
    }
   ],
   "source": [
    "# It can be applied to a multiple dimension vector.\n",
    "# Each dimension will have its own coding values.\n",
    "enc2 = preprocessing.OrdinalEncoder()\n",
    "\n",
    "# The first list will be \"1\", the second one \"0\"\n",
    "X = [['male', 'from US', 'uses Safari'], ['female', 'from Europe', 'uses Firefox']]\n",
    "enc2.fit(X)\n",
    "\n",
    "enc2.transform([['female', 'from US','uses Safari']])"
   ]
  },
  {
   "cell_type": "markdown",
   "metadata": {
    "id": "Mwfm5BPt3nwq"
   },
   "source": [
    "#### Exercise:\n",
    "What happens if each of the dimension has a different number of classes? Provide an example by adding more samples to X."
   ]
  },
  {
   "cell_type": "markdown",
   "metadata": {},
   "source": [
    "There is less classes."
   ]
  },
  {
   "cell_type": "code",
   "execution_count": 46,
   "metadata": {
    "colab": {
     "base_uri": "https://localhost:8080/",
     "height": 88
    },
    "id": "xNdu7Cgk3KCe",
    "outputId": "f6bad212-90b4-45b5-fcc0-ae43bbeb4c69"
   },
   "outputs": [
    {
     "data": {
      "text/plain": [
       "array([[0., 2., 2.]])"
      ]
     },
     "execution_count": 46,
     "metadata": {},
     "output_type": "execute_result"
    }
   ],
   "source": [
    "enc3 = preprocessing.OrdinalEncoder()\n",
    "\n",
    "# The first list will be \"1\", the second one \"0\"\n",
    "X = [['male', 'from US', 'uses Safari'], ['female', 'from Europe', 'uses Firefox'], ['male', 'from Poland', 'uses Brave']]\n",
    "enc3.fit(X)\n",
    "\n",
    "enc3.transform([['female', 'from US','uses Safari']])"
   ]
  },
  {
   "cell_type": "markdown",
   "metadata": {
    "id": "RhCgFt0S3w-u"
   },
   "source": [
    "### One-hot Encoding\n",
    "This coding technique transforms the output into a vector with probabilities associated to each class."
   ]
  },
  {
   "cell_type": "code",
   "execution_count": 47,
   "metadata": {
    "colab": {
     "base_uri": "https://localhost:8080/",
     "height": 35
    },
    "id": "XpLOy3hl3_L9",
    "outputId": "d15d87e7-2900-404e-b028-ac37a89c4ebf"
   },
   "outputs": [
    {
     "data": {
      "text/plain": [
       "array([[0., 0., 1.]])"
      ]
     },
     "execution_count": 47,
     "metadata": {},
     "output_type": "execute_result"
    }
   ],
   "source": [
    "enc = preprocessing.OneHotEncoder()\n",
    "\n",
    "X = [['Class_0'], ['Class_1'], ['Class_2']]\n",
    "enc.fit(X)\n",
    "\n",
    "enc.transform([['Class_2']]).toarray()"
   ]
  },
  {
   "cell_type": "markdown",
   "metadata": {
    "id": "o7Do8DEb4NTZ"
   },
   "source": [
    "#### Exercise: \n",
    "What happens if we have multiple dimensions per sample/observation? Provide an example to justify your answer."
   ]
  },
  {
   "cell_type": "markdown",
   "metadata": {},
   "source": [
    "In the output it will generate extra dimention of array for each dimension of sample."
   ]
  },
  {
   "cell_type": "code",
   "execution_count": 48,
   "metadata": {
    "colab": {
     "base_uri": "https://localhost:8080/",
     "height": 35
    },
    "id": "nHYbTbXF41RM",
    "outputId": "6357a44e-e512-4e22-a223-7a0d3dea76ee"
   },
   "outputs": [
    {
     "data": {
      "text/plain": [
       "array([[1., 0., 0.],\n",
       "       [0., 0., 1.]])"
      ]
     },
     "execution_count": 48,
     "metadata": {},
     "output_type": "execute_result"
    }
   ],
   "source": [
    "enc = preprocessing.OneHotEncoder()\n",
    "\n",
    "X = [['Class_0'], ['Class_1'], ['Class_2']]\n",
    "enc.fit(X)\n",
    "\n",
    "enc.transform([['Class_0'], ['Class_2']]).toarray()"
   ]
  },
  {
   "cell_type": "markdown",
   "metadata": {
    "id": "rvz0edUO4zqh"
   },
   "source": [
    "#### Categories available can be specified, and even make a decision on how to handle unknown categories (e.g., ignore them)."
   ]
  },
  {
   "cell_type": "code",
   "execution_count": 49,
   "metadata": {
    "colab": {
     "base_uri": "https://localhost:8080/",
     "height": 35
    },
    "id": "me4vAUSP4C4x",
    "outputId": "f77ec165-f553-4b3f-97f4-4865f383f546"
   },
   "outputs": [
    {
     "data": {
      "text/plain": [
       "array([[0., 0., 0.]])"
      ]
     },
     "execution_count": 49,
     "metadata": {},
     "output_type": "execute_result"
    }
   ],
   "source": [
    "enc = preprocessing.OneHotEncoder(handle_unknown='ignore')\n",
    "\n",
    "X = [['Class_0'],['Class_1'],['Class_2']]\n",
    "enc.fit(X)\n",
    "\n",
    "enc.transform([['Class_3']]).toarray()"
   ]
  },
  {
   "cell_type": "markdown",
   "metadata": {
    "id": "M3AGLOch5M5a"
   },
   "source": [
    "### Data Discretization\n",
    "\n",
    "If data are continuous or discrete values, but we want them to be categorized, i.e., transformed into categories, discretization can be applied to this end. The process is similar to the generation of a histogram where each sample is assigned to a particular *bin*, being this a class in this specific case."
   ]
  },
  {
   "cell_type": "code",
   "execution_count": 50,
   "metadata": {
    "id": "9WiPSunp5PhI"
   },
   "outputs": [],
   "source": [
    "X = np.array([[ -3., 5., 15 ],\n",
    "              [  0., 6., 14 ],\n",
    "              [  6., 3., 11 ]])\n",
    "est = preprocessing.KBinsDiscretizer(n_bins=[3, 2, 2], encode='ordinal').fit(X)"
   ]
  },
  {
   "cell_type": "code",
   "execution_count": 51,
   "metadata": {
    "colab": {
     "base_uri": "https://localhost:8080/",
     "height": 70
    },
    "id": "3AMwBv6U50I9",
    "outputId": "df643cde-2c5c-4139-d400-6d05047546c1"
   },
   "outputs": [
    {
     "data": {
      "text/plain": [
       "array([[0., 1., 1.],\n",
       "       [1., 1., 1.],\n",
       "       [2., 0., 0.]])"
      ]
     },
     "execution_count": 51,
     "metadata": {},
     "output_type": "execute_result"
    }
   ],
   "source": [
    "est.transform(X) "
   ]
  },
  {
   "cell_type": "markdown",
   "metadata": {
    "id": "n2y3wVWl59LY"
   },
   "source": [
    "#### Exercise:\n",
    "Discretize input data from IRIS database so that there are two categories for the first variable, 4 categories for the second one, 10 for the third and 5 for the fourth. Use train and validation splits to this end: train the discretizer using the training subset, and apply it later to both training and test subsets."
   ]
  },
  {
   "cell_type": "code",
   "execution_count": 52,
   "metadata": {
    "colab": {
     "base_uri": "https://localhost:8080/",
     "height": 1000
    },
    "id": "Da_wvTQt536t",
    "outputId": "88b54ce2-babb-48e2-ac6a-f4095a862aa9",
    "scrolled": true
   },
   "outputs": [],
   "source": [
    "X = iris.data\n",
    "est = preprocessing.KBinsDiscretizer(n_bins=[2, 4, 10, 5], encode='ordinal').fit(X)\n",
    " "
   ]
  },
  {
   "cell_type": "code",
   "execution_count": 53,
   "metadata": {},
   "outputs": [
    {
     "data": {
      "text/plain": [
       "0.9736842105263158"
      ]
     },
     "execution_count": 53,
     "metadata": {},
     "output_type": "execute_result"
    }
   ],
   "source": [
    "y = iris.target\n",
    "X_train, X_test, y_train, y_test = train_test_split(est.transform(X), y, random_state=42)\n",
    "pipe = make_pipeline(StandardScaler(), LogisticRegression())\n",
    "pipe.fit(X_train, y_train)  # apply scaling on training data\n",
    "\n",
    "pipe.score(X_test, y_test)  # apply scaling on testing data, without leaking training data."
   ]
  },
  {
   "cell_type": "markdown",
   "metadata": {},
   "source": [
    "# 1.3 Feature Selection using *filter* Methods"
   ]
  },
  {
   "cell_type": "markdown",
   "metadata": {},
   "source": [
    "## Correlation between input and output variables\n",
    "\n",
    "The objective of the method is to determine which input variables in the IRIS dataset are more correlated with the output, to select those ones with the highest correlation."
   ]
  },
  {
   "cell_type": "code",
   "execution_count": 54,
   "metadata": {},
   "outputs": [],
   "source": [
    "X, y = datasets.load_iris(return_X_y=True)"
   ]
  },
  {
   "cell_type": "markdown",
   "metadata": {},
   "source": [
    "#### Exercise:\n",
    "Compute the correlation (`np.corrcoef`) between the input and the output variables. Show the values obtained and select two of the most suitable variables."
   ]
  },
  {
   "cell_type": "code",
   "execution_count": 55,
   "metadata": {},
   "outputs": [
    {
     "name": "stdout",
     "output_type": "stream",
     "text": [
      "Correlation between X1 and y: 0.7825612318100814\n",
      "Correlation between X2 and y: -0.4266575607811243\n",
      "Correlation between X3 and y: 0.9490346990083884\n",
      "Correlation between X4 and y: 0.9565473328764029\n",
      "Indices of the two most suitable variables: [3 2]\n"
     ]
    }
   ],
   "source": [
    "correlations = []\n",
    "for i in range(X.shape[1]):\n",
    "    correlation = np.corrcoef(X[:, i], y)[0, 1]\n",
    "    correlations.append(correlation)\n",
    "\n",
    "# Print the correlation values for each input variable\n",
    "for i, correlation in enumerate(correlations):\n",
    "    print(f\"Correlation between X{i+1} and y: {correlation}\")\n",
    "\n",
    "# Select the two variables with the highest correlation\n",
    "top_indices = np.argsort(np.abs(correlations))[::-1][:2]\n",
    "selected_variables = [X[:, i] for i in top_indices]\n",
    "\n",
    "# Print the selected variable indices\n",
    "print(f\"Indices of the two most suitable variables: {top_indices}\")"
   ]
  },
  {
   "cell_type": "markdown",
   "metadata": {},
   "source": [
    "## Correlation between input variables\n",
    "\n",
    "In this case the objective is to remove those input variables which are highly correlated between them, given that they do not provide extra information to the model and may hamper its performance. For instance, if we see that variables `X[:,0]` and `X[:,1]` (first and second dimension) are highly correlated, one of them will be removed.\n",
    "\n",
    "#### Exercise:\n",
    "Compute the correlation between all the input variables and remove one with high cross-correlation."
   ]
  },
  {
   "cell_type": "code",
   "execution_count": 56,
   "metadata": {},
   "outputs": [
    {
     "name": "stdout",
     "output_type": "stream",
     "text": [
      "[[ 0.         -0.11756978  0.87175378  0.81794113]\n",
      " [ 0.          0.         -0.4284401  -0.36612593]\n",
      " [ 0.          0.          0.          0.96286543]\n",
      " [ 0.          0.          0.          0.        ]]\n",
      "[[5.1 3.5 1.4]\n",
      " [4.9 3.  1.4]\n",
      " [4.7 3.2 1.3]\n",
      " [4.6 3.1 1.5]\n",
      " [5.  3.6 1.4]\n",
      " [5.4 3.9 1.7]\n",
      " [4.6 3.4 1.4]\n",
      " [5.  3.4 1.5]\n",
      " [4.4 2.9 1.4]\n",
      " [4.9 3.1 1.5]\n",
      " [5.4 3.7 1.5]\n",
      " [4.8 3.4 1.6]\n",
      " [4.8 3.  1.4]\n",
      " [4.3 3.  1.1]\n",
      " [5.8 4.  1.2]\n",
      " [5.7 4.4 1.5]\n",
      " [5.4 3.9 1.3]\n",
      " [5.1 3.5 1.4]\n",
      " [5.7 3.8 1.7]\n",
      " [5.1 3.8 1.5]\n",
      " [5.4 3.4 1.7]\n",
      " [5.1 3.7 1.5]\n",
      " [4.6 3.6 1. ]\n",
      " [5.1 3.3 1.7]\n",
      " [4.8 3.4 1.9]\n",
      " [5.  3.  1.6]\n",
      " [5.  3.4 1.6]\n",
      " [5.2 3.5 1.5]\n",
      " [5.2 3.4 1.4]\n",
      " [4.7 3.2 1.6]\n",
      " [4.8 3.1 1.6]\n",
      " [5.4 3.4 1.5]\n",
      " [5.2 4.1 1.5]\n",
      " [5.5 4.2 1.4]\n",
      " [4.9 3.1 1.5]\n",
      " [5.  3.2 1.2]\n",
      " [5.5 3.5 1.3]\n",
      " [4.9 3.6 1.4]\n",
      " [4.4 3.  1.3]\n",
      " [5.1 3.4 1.5]\n",
      " [5.  3.5 1.3]\n",
      " [4.5 2.3 1.3]\n",
      " [4.4 3.2 1.3]\n",
      " [5.  3.5 1.6]\n",
      " [5.1 3.8 1.9]\n",
      " [4.8 3.  1.4]\n",
      " [5.1 3.8 1.6]\n",
      " [4.6 3.2 1.4]\n",
      " [5.3 3.7 1.5]\n",
      " [5.  3.3 1.4]\n",
      " [7.  3.2 4.7]\n",
      " [6.4 3.2 4.5]\n",
      " [6.9 3.1 4.9]\n",
      " [5.5 2.3 4. ]\n",
      " [6.5 2.8 4.6]\n",
      " [5.7 2.8 4.5]\n",
      " [6.3 3.3 4.7]\n",
      " [4.9 2.4 3.3]\n",
      " [6.6 2.9 4.6]\n",
      " [5.2 2.7 3.9]\n",
      " [5.  2.  3.5]\n",
      " [5.9 3.  4.2]\n",
      " [6.  2.2 4. ]\n",
      " [6.1 2.9 4.7]\n",
      " [5.6 2.9 3.6]\n",
      " [6.7 3.1 4.4]\n",
      " [5.6 3.  4.5]\n",
      " [5.8 2.7 4.1]\n",
      " [6.2 2.2 4.5]\n",
      " [5.6 2.5 3.9]\n",
      " [5.9 3.2 4.8]\n",
      " [6.1 2.8 4. ]\n",
      " [6.3 2.5 4.9]\n",
      " [6.1 2.8 4.7]\n",
      " [6.4 2.9 4.3]\n",
      " [6.6 3.  4.4]\n",
      " [6.8 2.8 4.8]\n",
      " [6.7 3.  5. ]\n",
      " [6.  2.9 4.5]\n",
      " [5.7 2.6 3.5]\n",
      " [5.5 2.4 3.8]\n",
      " [5.5 2.4 3.7]\n",
      " [5.8 2.7 3.9]\n",
      " [6.  2.7 5.1]\n",
      " [5.4 3.  4.5]\n",
      " [6.  3.4 4.5]\n",
      " [6.7 3.1 4.7]\n",
      " [6.3 2.3 4.4]\n",
      " [5.6 3.  4.1]\n",
      " [5.5 2.5 4. ]\n",
      " [5.5 2.6 4.4]\n",
      " [6.1 3.  4.6]\n",
      " [5.8 2.6 4. ]\n",
      " [5.  2.3 3.3]\n",
      " [5.6 2.7 4.2]\n",
      " [5.7 3.  4.2]\n",
      " [5.7 2.9 4.2]\n",
      " [6.2 2.9 4.3]\n",
      " [5.1 2.5 3. ]\n",
      " [5.7 2.8 4.1]\n",
      " [6.3 3.3 6. ]\n",
      " [5.8 2.7 5.1]\n",
      " [7.1 3.  5.9]\n",
      " [6.3 2.9 5.6]\n",
      " [6.5 3.  5.8]\n",
      " [7.6 3.  6.6]\n",
      " [4.9 2.5 4.5]\n",
      " [7.3 2.9 6.3]\n",
      " [6.7 2.5 5.8]\n",
      " [7.2 3.6 6.1]\n",
      " [6.5 3.2 5.1]\n",
      " [6.4 2.7 5.3]\n",
      " [6.8 3.  5.5]\n",
      " [5.7 2.5 5. ]\n",
      " [5.8 2.8 5.1]\n",
      " [6.4 3.2 5.3]\n",
      " [6.5 3.  5.5]\n",
      " [7.7 3.8 6.7]\n",
      " [7.7 2.6 6.9]\n",
      " [6.  2.2 5. ]\n",
      " [6.9 3.2 5.7]\n",
      " [5.6 2.8 4.9]\n",
      " [7.7 2.8 6.7]\n",
      " [6.3 2.7 4.9]\n",
      " [6.7 3.3 5.7]\n",
      " [7.2 3.2 6. ]\n",
      " [6.2 2.8 4.8]\n",
      " [6.1 3.  4.9]\n",
      " [6.4 2.8 5.6]\n",
      " [7.2 3.  5.8]\n",
      " [7.4 2.8 6.1]\n",
      " [7.9 3.8 6.4]\n",
      " [6.4 2.8 5.6]\n",
      " [6.3 2.8 5.1]\n",
      " [6.1 2.6 5.6]\n",
      " [7.7 3.  6.1]\n",
      " [6.3 3.4 5.6]\n",
      " [6.4 3.1 5.5]\n",
      " [6.  3.  4.8]\n",
      " [6.9 3.1 5.4]\n",
      " [6.7 3.1 5.6]\n",
      " [6.9 3.1 5.1]\n",
      " [5.8 2.7 5.1]\n",
      " [6.8 3.2 5.9]\n",
      " [6.7 3.3 5.7]\n",
      " [6.7 3.  5.2]\n",
      " [6.3 2.5 5. ]\n",
      " [6.5 3.  5.2]\n",
      " [6.2 3.4 5.4]\n",
      " [5.9 3.  5.1]]\n"
     ]
    }
   ],
   "source": [
    "correlations = np.zeros([4, 4])\n",
    "for i in range(X.shape[1]-1):\n",
    "    for j in range(i+1, X.shape[1]):\n",
    "        correlations[i][j] = np.corrcoef(X[:, i], X[:, j])[0, 1]\n",
    "print(correlations)\n",
    "    \n",
    "max_index = np.argmax(correlations)\n",
    "max_row, max_col = np.unravel_index(max_index, correlations.shape)\n",
    "X_without_high_correlation = np.delete(X, max_col, axis=1)\n",
    "print(X_without_high_correlation)\n"
   ]
  },
  {
   "cell_type": "markdown",
   "metadata": {},
   "source": [
    "#### Exercise\n",
    "Visualize the correlation between variables (`plt.imshow` can be used to this end)."
   ]
  },
  {
   "cell_type": "code",
   "execution_count": 57,
   "metadata": {},
   "outputs": [
    {
     "data": {
      "image/png": "[encoded data removed]",
      "text/plain": [
       "<Figure size 432x288 with 2 Axes>"
      ]
     },
     "metadata": {
      "needs_background": "light"
     },
     "output_type": "display_data"
    }
   ],
   "source": [
    "correlations[correlations == 0] = np.nan\n",
    "\n",
    "# Tworzenie wykresu mapy kolorów z pominięciem NaN\n",
    "plt.imshow(correlations, cmap='viridis', origin='upper', extent=[0, 4, 0, 4], interpolation='none', vmin=np.nanmin(correlations), vmax=np.nanmax(correlations))\n",
    "plt.colorbar(label='Values')\n",
    "plt.title('Value of correlation')\n",
    "plt.xlabel('Class')\n",
    "plt.ylabel('Class')\n",
    "\n",
    "plt.show()"
   ]
  },
  {
   "cell_type": "markdown",
   "metadata": {},
   "source": [
    "## Mutual Information (MI) between input and output variables"
   ]
  },
  {
   "cell_type": "markdown",
   "metadata": {},
   "source": [
    "We are going to compute MI. The MI between two **discrete** variables $X,Y$ can be defined as follows:\n",
    "$$ \\textrm{MI}(X,Y) = \\sum_{y\\in \\mathcal{Y}}\\sum_{x\\in \\mathcal{X}} p(x,y)\\log\\left(\\frac{p(x,y)}{p(x)p(y)}\\right) $$\n",
    "More information here: https://en.wikipedia.org/wiki/Mutual_information"
   ]
  },
  {
   "cell_type": "markdown",
   "metadata": {},
   "source": [
    "First, we estimate the probability for each class given the output variable or target. We can also compute its entropy as $J(y)=-\\sum p(y)\\log p(y) $."
   ]
  },
  {
   "cell_type": "code",
   "execution_count": 58,
   "metadata": {},
   "outputs": [
    {
     "name": "stdout",
     "output_type": "stream",
     "text": [
      "p(y) [0.33333333 0.33333333 0.33333333] y entropy 1.0986122886681096\n"
     ]
    }
   ],
   "source": [
    "# Entropy for the output //discrete// variables: J(y) = -sum P(c)log(P(c))\n",
    "classes = np.unique(y)\n",
    "# Probability for each class\n",
    "py = np.zeros(len(classes))\n",
    "for nc, c in enumerate(classes):\n",
    "    py[c] = np.sum(y == c)\n",
    "# Transform into probabilities by normalizing with respect to the total number of samples\n",
    "py /= np.sum(py)\n",
    "# Compute the entropy\n",
    "jy = -np.sum(py * np.log(py))\n",
    "print('p(y)', py, 'y entropy', jy)"
   ]
  },
  {
   "cell_type": "markdown",
   "metadata": {},
   "source": [
    "To work with the continuous input variables, we have to discretize or quantify them first. To this end, we can use `KBinsDiscretizer` again to define a new variable `Xd` to discretize `X`. Use 9 bins."
   ]
  },
  {
   "cell_type": "code",
   "execution_count": 59,
   "metadata": {},
   "outputs": [],
   "source": [
    "from sklearn.preprocessing import KBinsDiscretizer\n",
    "# Exercise: Try out with different bins. The higher the number of bins, the finer the resolution, but the higher the entropy as well.\n",
    "kbd = KBinsDiscretizer(n_bins=9, encode='ordinal')\n",
    "Xd = kbd.fit_transform(X)"
   ]
  },
  {
   "cell_type": "markdown",
   "metadata": {},
   "source": [
    "#### Exercise:\n",
    "Use the following implementation to estimate p(x) and p(x,y), which can be later used to compute the MI between each input variable and the target."
   ]
  },
  {
   "cell_type": "code",
   "execution_count": 60,
   "metadata": {},
   "outputs": [
    {
     "name": "stdout",
     "output_type": "stream",
     "text": [
      "[0.5032742  0.31671819 0.98041703 0.97135001]\n"
     ]
    }
   ],
   "source": [
    "# Compute the MI for each variable in X\n",
    "nv = Xd.shape[1]\n",
    "mi = np.zeros(nv)\n",
    "# Different values in Xd\n",
    "xvalues = np.unique(Xd)\n",
    "for v in range(nv):\n",
    "    # Compute px\n",
    "    px = np.zeros(len(xvalues))\n",
    "    # --------------\n",
    "    for i, value in enumerate(xvalues):\n",
    "        px[i] = np.sum([Xd[:,v] == value])\n",
    "    px /= np.sum(px)\n",
    "    # --------------\n",
    "\n",
    "    # Compute pxy\n",
    "    pxy = np.zeros((len(xvalues), len(classes)))\n",
    "    # --------------\n",
    "    for i, value in enumerate(xvalues):\n",
    "        for j, cls in enumerate(classes):\n",
    "            pxy[i,j] = np.sum((Xd[:,v] == value) & (y == cls))\n",
    "    pxy /= np.sum(pxy)\n",
    "    # --------------\n",
    "    \n",
    "    # Compute MI: sum_x(sum_y( p(x,y) * log(p(x,y) / (p(x)*p(y)) ))\n",
    "    mi[v] = 0.0\n",
    "    for i in range(pxy.shape[0]):\n",
    "        for j in range(pxy.shape[1]):\n",
    "            # Avoid dividing by 0 and logarithms = -inf\n",
    "            if pxy[i,j] > 0 and px[i] > 0 and py[j] > 0:\n",
    "                # --------------\n",
    "                mi[v] += pxy[i,j] * np.log(pxy[i,j] / px[i] / py[j])\n",
    "                # --------------\n",
    "\n",
    "print(mi)    "
   ]
  },
  {
   "cell_type": "markdown",
   "metadata": {},
   "source": [
    "#### Exercise\n",
    "Compare the result obtained with the one provided by the scikit-learn implementation using\n",
    "`sklearn.feature_selection.mutual_info_classif`."
   ]
  },
  {
   "cell_type": "code",
   "execution_count": 61,
   "metadata": {},
   "outputs": [
    {
     "name": "stdout",
     "output_type": "stream",
     "text": [
      "[0.5113651  0.29942431 0.99257309 0.98564251]\n"
     ]
    }
   ],
   "source": [
    "from sklearn.feature_selection import mutual_info_classif\n",
    "X = iris.data\n",
    "y = iris.target\n",
    "mi_scores = mutual_info_classif(X, y, random_state=42)\n",
    "print(mi_scores)\n",
    "\n"
   ]
  },
  {
   "cell_type": "markdown",
   "metadata": {},
   "source": [
    "Scikit-learn provides a function to select the best `k` variables, `SelectKBest`. Using this function together with `mutual_info_classif`, we can select groups of variables.\n",
    "\n",
    "#### Exercise:\n",
    "Use `sklearn.feature_selection.SelectKBest` and `mutual_info_classif` to automatically select the two best variables."
   ]
  },
  {
   "cell_type": "code",
   "execution_count": 62,
   "metadata": {},
   "outputs": [
    {
     "name": "stdout",
     "output_type": "stream",
     "text": [
      "Indices of the selected features: [2 3]\n"
     ]
    }
   ],
   "source": [
    "from sklearn.feature_selection import SelectKBest\n",
    "\n",
    "k_best = SelectKBest(score_func=mutual_info_classif, k=2)\n",
    "X_new = k_best.fit_transform(X, y)\n",
    "selected_indices = k_best.get_support(indices=True)\n",
    "\n",
    "print(\"Indices of the selected features:\", selected_indices)"
   ]
  },
  {
   "cell_type": "markdown",
   "metadata": {},
   "source": [
    "* There are other statistics which can be used for classification tasks:\n",
    "    - `chi2`: $\\chi^2$ statistic (chi square) between X, y.\n",
    "    - `f_classif`: ANOVA test between X, y.\n",
    "* For regression tasks, use `mutual_info_regression` or `f_regression`."
   ]
  },
  {
   "cell_type": "markdown",
   "metadata": {},
   "source": [
    "## Mutual Information between Input Variables\n",
    "\n",
    "Similarly to the use of correlation, if the MI between two variables is high, one of them can be removed.\n",
    "\n",
    "#### Exercise:\n",
    "Use `mutual_info_regression` between each pair of input variables to identify those with high MI. Remove one of them. "
   ]
  },
  {
   "cell_type": "code",
   "execution_count": 63,
   "metadata": {},
   "outputs": [
    {
     "name": "stdout",
     "output_type": "stream",
     "text": [
      "[[0.         0.22874701 0.87848835 0.61445313]\n",
      " [0.         0.         0.3376347  0.39353306]\n",
      " [0.         0.         0.         1.22980093]\n",
      " [0.         0.         0.         0.        ]]\n",
      "[[5.1 3.5 1.4]\n",
      " [4.9 3.  1.4]\n",
      " [4.7 3.2 1.3]\n",
      " [4.6 3.1 1.5]\n",
      " [5.  3.6 1.4]\n",
      " [5.4 3.9 1.7]\n",
      " [4.6 3.4 1.4]\n",
      " [5.  3.4 1.5]\n",
      " [4.4 2.9 1.4]\n",
      " [4.9 3.1 1.5]\n",
      " [5.4 3.7 1.5]\n",
      " [4.8 3.4 1.6]\n",
      " [4.8 3.  1.4]\n",
      " [4.3 3.  1.1]\n",
      " [5.8 4.  1.2]\n",
      " [5.7 4.4 1.5]\n",
      " [5.4 3.9 1.3]\n",
      " [5.1 3.5 1.4]\n",
      " [5.7 3.8 1.7]\n",
      " [5.1 3.8 1.5]\n",
      " [5.4 3.4 1.7]\n",
      " [5.1 3.7 1.5]\n",
      " [4.6 3.6 1. ]\n",
      " [5.1 3.3 1.7]\n",
      " [4.8 3.4 1.9]\n",
      " [5.  3.  1.6]\n",
      " [5.  3.4 1.6]\n",
      " [5.2 3.5 1.5]\n",
      " [5.2 3.4 1.4]\n",
      " [4.7 3.2 1.6]\n",
      " [4.8 3.1 1.6]\n",
      " [5.4 3.4 1.5]\n",
      " [5.2 4.1 1.5]\n",
      " [5.5 4.2 1.4]\n",
      " [4.9 3.1 1.5]\n",
      " [5.  3.2 1.2]\n",
      " [5.5 3.5 1.3]\n",
      " [4.9 3.6 1.4]\n",
      " [4.4 3.  1.3]\n",
      " [5.1 3.4 1.5]\n",
      " [5.  3.5 1.3]\n",
      " [4.5 2.3 1.3]\n",
      " [4.4 3.2 1.3]\n",
      " [5.  3.5 1.6]\n",
      " [5.1 3.8 1.9]\n",
      " [4.8 3.  1.4]\n",
      " [5.1 3.8 1.6]\n",
      " [4.6 3.2 1.4]\n",
      " [5.3 3.7 1.5]\n",
      " [5.  3.3 1.4]\n",
      " [7.  3.2 4.7]\n",
      " [6.4 3.2 4.5]\n",
      " [6.9 3.1 4.9]\n",
      " [5.5 2.3 4. ]\n",
      " [6.5 2.8 4.6]\n",
      " [5.7 2.8 4.5]\n",
      " [6.3 3.3 4.7]\n",
      " [4.9 2.4 3.3]\n",
      " [6.6 2.9 4.6]\n",
      " [5.2 2.7 3.9]\n",
      " [5.  2.  3.5]\n",
      " [5.9 3.  4.2]\n",
      " [6.  2.2 4. ]\n",
      " [6.1 2.9 4.7]\n",
      " [5.6 2.9 3.6]\n",
      " [6.7 3.1 4.4]\n",
      " [5.6 3.  4.5]\n",
      " [5.8 2.7 4.1]\n",
      " [6.2 2.2 4.5]\n",
      " [5.6 2.5 3.9]\n",
      " [5.9 3.2 4.8]\n",
      " [6.1 2.8 4. ]\n",
      " [6.3 2.5 4.9]\n",
      " [6.1 2.8 4.7]\n",
      " [6.4 2.9 4.3]\n",
      " [6.6 3.  4.4]\n",
      " [6.8 2.8 4.8]\n",
      " [6.7 3.  5. ]\n",
      " [6.  2.9 4.5]\n",
      " [5.7 2.6 3.5]\n",
      " [5.5 2.4 3.8]\n",
      " [5.5 2.4 3.7]\n",
      " [5.8 2.7 3.9]\n",
      " [6.  2.7 5.1]\n",
      " [5.4 3.  4.5]\n",
      " [6.  3.4 4.5]\n",
      " [6.7 3.1 4.7]\n",
      " [6.3 2.3 4.4]\n",
      " [5.6 3.  4.1]\n",
      " [5.5 2.5 4. ]\n",
      " [5.5 2.6 4.4]\n",
      " [6.1 3.  4.6]\n",
      " [5.8 2.6 4. ]\n",
      " [5.  2.3 3.3]\n",
      " [5.6 2.7 4.2]\n",
      " [5.7 3.  4.2]\n",
      " [5.7 2.9 4.2]\n",
      " [6.2 2.9 4.3]\n",
      " [5.1 2.5 3. ]\n",
      " [5.7 2.8 4.1]\n",
      " [6.3 3.3 6. ]\n",
      " [5.8 2.7 5.1]\n",
      " [7.1 3.  5.9]\n",
      " [6.3 2.9 5.6]\n",
      " [6.5 3.  5.8]\n",
      " [7.6 3.  6.6]\n",
      " [4.9 2.5 4.5]\n",
      " [7.3 2.9 6.3]\n",
      " [6.7 2.5 5.8]\n",
      " [7.2 3.6 6.1]\n",
      " [6.5 3.2 5.1]\n",
      " [6.4 2.7 5.3]\n",
      " [6.8 3.  5.5]\n",
      " [5.7 2.5 5. ]\n",
      " [5.8 2.8 5.1]\n",
      " [6.4 3.2 5.3]\n",
      " [6.5 3.  5.5]\n",
      " [7.7 3.8 6.7]\n",
      " [7.7 2.6 6.9]\n",
      " [6.  2.2 5. ]\n",
      " [6.9 3.2 5.7]\n",
      " [5.6 2.8 4.9]\n",
      " [7.7 2.8 6.7]\n",
      " [6.3 2.7 4.9]\n",
      " [6.7 3.3 5.7]\n",
      " [7.2 3.2 6. ]\n",
      " [6.2 2.8 4.8]\n",
      " [6.1 3.  4.9]\n",
      " [6.4 2.8 5.6]\n",
      " [7.2 3.  5.8]\n",
      " [7.4 2.8 6.1]\n",
      " [7.9 3.8 6.4]\n",
      " [6.4 2.8 5.6]\n",
      " [6.3 2.8 5.1]\n",
      " [6.1 2.6 5.6]\n",
      " [7.7 3.  6.1]\n",
      " [6.3 3.4 5.6]\n",
      " [6.4 3.1 5.5]\n",
      " [6.  3.  4.8]\n",
      " [6.9 3.1 5.4]\n",
      " [6.7 3.1 5.6]\n",
      " [6.9 3.1 5.1]\n",
      " [5.8 2.7 5.1]\n",
      " [6.8 3.2 5.9]\n",
      " [6.7 3.3 5.7]\n",
      " [6.7 3.  5.2]\n",
      " [6.3 2.5 5. ]\n",
      " [6.5 3.  5.2]\n",
      " [6.2 3.4 5.4]\n",
      " [5.9 3.  5.1]]\n"
     ]
    }
   ],
   "source": [
    "from sklearn.feature_selection import mutual_info_regression\n",
    "X = iris.data\n",
    "y = iris.target\n",
    "\n",
    "MI = np.zeros([4, 4])\n",
    "for i in range(X.shape[1]-1):\n",
    "    for j in range(i+1, X.shape[1]):\n",
    "        MI[i][j] = mutual_info_regression(X[:, i:i+1], X[:, j], random_state=42)\n",
    "print(MI)\n",
    "    \n",
    "max_index = np.argmax(MI)\n",
    "max_row, max_col = np.unravel_index(max_index, MI.shape)\n",
    "X_without_high_correlation = np.delete(X, max_col, axis=1)\n",
    "print(X_without_high_correlation)\n"
   ]
  },
  {
   "cell_type": "markdown",
   "metadata": {},
   "source": [
    "# 1.4. Feature Selection using *wrapper* Methods\n",
    "\n",
    "\n",
    "*Wrapper* methods select those variables which are more suitable for a particular ML model. To this end, we will define a particular classification or regression model, and try all the possible combinations and groups of variables.\n",
    "\n",
    "To test this method, we will define a simple regression task where a line will be adjusted by least squares. The task will be generated by using the `make_regression` function from scikit-learn, creating a number of informative variables lower than the total number of variables, as shown in the following code implementation.\n",
    "\n",
    "100 samples will be generated for a regression task, given 4 input variables and 1 output variable (target). Only 3 out of the 4 variables will be required for an accurate prediction, i.e., 3 of them will be the informative ones. Moreover, a small amount of noise is added to complicate the task."
   ]
  },
  {
   "cell_type": "code",
   "execution_count": 64,
   "metadata": {},
   "outputs": [
    {
     "name": "stdout",
     "output_type": "stream",
     "text": [
      "[  45.60120076  -97.57275385   91.39669829   13.06630314   37.40071518\n",
      "  127.1822138     8.18461117  206.36863742 -113.39475972  -60.83295681\n",
      "   39.69098512  -48.07362095    7.3995994    57.05829618   80.32264802\n",
      "  141.0182901    69.19838715   81.11918167  120.85759695  -11.09867798\n",
      "  -51.56448457   90.13040685   -5.9544866     2.20955313   64.4519529\n",
      "  215.14759585  -75.25935809   48.37113099  173.72764167   21.82341543\n",
      " -108.6668918   130.95420299   38.17081593 -133.03233368  108.8762907\n",
      " -100.74503022  -26.75998216  111.27735212  -26.36498392  -56.05798543\n",
      "   58.14585673   83.4981424   -10.86144261 -124.36293617  -14.3612585\n",
      "   -5.32072732 -114.78749492  -23.17198212  -42.37987667   -0.89552317\n",
      " -117.12711375  175.8232447    53.65192569 -139.22777213  -28.95574588\n",
      "   65.04748834  -57.63526482 -111.14400757    6.0623081   115.055498\n",
      "  252.60257515 -101.66522053  -40.30843348  -61.04813314  -35.81444595\n",
      " -121.73345112  160.73491469   12.50294013   -1.2013507   -87.75831054\n",
      "   31.63770345  -35.15509381   89.48370515  -87.66761066   38.87533291\n",
      "  162.42834965 -254.68369063   17.81737231   52.71579244  -53.49751043\n",
      "  -12.88403357  -25.8243327    -3.69929097   11.19022516  105.16431624\n",
      "  -50.03723715   -2.16578894   57.70365842 -100.23551144  -23.14354918\n",
      "   70.13505331  276.1748041   106.86163751   18.97737445   48.71454761\n",
      "  -74.32474511   45.92165803 -129.94664835   50.49775966 -104.4918842 ]\n"
     ]
    }
   ],
   "source": [
    "from sklearn.datasets import make_regression\n",
    "\n",
    "# n_informative < n_features for this example to make sense\n",
    "X, y = make_regression(n_samples=100, n_features=4, n_informative=3, n_targets=1, noise=0.01)\n",
    "\n"
   ]
  },
  {
   "cell_type": "markdown",
   "metadata": {},
   "source": [
    "We apply a linear regression model using the `LinearRegression` function in scikit-learn and we compute the error obtained."
   ]
  },
  {
   "cell_type": "code",
   "execution_count": 65,
   "metadata": {},
   "outputs": [
    {
     "name": "stdout",
     "output_type": "stream",
     "text": [
      "MSE 8.724617511529523e-05\n"
     ]
    }
   ],
   "source": [
    "# Split into train, test subsets\n",
    "from sklearn.model_selection import train_test_split\n",
    "Xtrain, Xtest, ytrain, ytest = train_test_split(X, y, test_size=0.33)\n",
    "\n",
    "# Reshape y to have Nx1 shape\n",
    "ytrain = ytrain.reshape(-1,1)\n",
    "ytest = ytest.reshape(-1,1)\n",
    "\n",
    "from sklearn.linear_model import LinearRegression\n",
    "lr = LinearRegression()\n",
    "lr.fit(Xtrain, ytrain)\n",
    "yp = lr.predict(Xtest)\n",
    "\n",
    "print('MSE', np.sum((ytest - yp)**2) / len(ytest))"
   ]
  },
  {
   "cell_type": "markdown",
   "metadata": {},
   "source": [
    "Now we will apply the feature selection method, first by fitting the model with each of the variables independently.\n",
    "\n",
    "#### Exercise:\n",
    "Consider, one by one, the input variables to fit the linear regreession by using `LinearRegression`. Provide the results obtained by using `fit` and `predict`, as well as computing the MSE for the test subset. What is the variable which provides the model with the best performance?"
   ]
  },
  {
   "cell_type": "code",
   "execution_count": 66,
   "metadata": {},
   "outputs": [
    {
     "name": "stdout",
     "output_type": "stream",
     "text": [
      "MSE 9100.453185823084\n",
      "MSE 7680.973751555215\n",
      "MSE 1123.1622129153625\n",
      "MSE 8517.614328407908\n"
     ]
    }
   ],
   "source": [
    "for i in range(Xtrain.shape[1]):\n",
    "    lr = LinearRegression()\n",
    "    lr.fit(Xtrain[:, i:i+1], ytrain)\n",
    "    yp = lr.predict(Xtest[:, i:i+1])\n",
    "\n",
    "    print('MSE', np.sum((ytest - yp)**2) / len(ytest))\n",
    "    \n"
   ]
  },
  {
   "cell_type": "markdown",
   "metadata": {},
   "source": [
    "#### Exercise:\n",
    "Consider pairs of input variables now, trying all the combinations possible. For that purpose, you can use `combinations` from the `itertools` libraty. What are the input variables which should be selected to achieve the best performance?"
   ]
  },
  {
   "cell_type": "code",
   "execution_count": 67,
   "metadata": {},
   "outputs": [
    {
     "name": "stdout",
     "output_type": "stream",
     "text": [
      "MSE 8176.312466432972\n",
      "MSE 1150.0874680804154\n",
      "MSE 9021.25579844552\n",
      "MSE 299.0194000660763\n",
      "MSE 7397.452846787572\n",
      "MSE 1112.2360478299859\n"
     ]
    }
   ],
   "source": [
    "from itertools import combinations\n",
    "for c in combinations(range(4), 2):\n",
    "    lr = LinearRegression()\n",
    "    lr.fit(Xtrain[:,c], ytrain)\n",
    "    yp = lr.predict(Xtest[:,c])\n",
    "\n",
    "    print('MSE', np.sum((ytest - yp)**2) / len(ytest))\n",
    "    # Each combo is in Xtrain[:,c]\n",
    "    "
   ]
  },
  {
   "cell_type": "markdown",
   "metadata": {},
   "source": [
    "Finally, consider groups of three variables... What are the ones which should be selected to achieve the best performance?"
   ]
  },
  {
   "cell_type": "code",
   "execution_count": 68,
   "metadata": {},
   "outputs": [
    {
     "name": "stdout",
     "output_type": "stream",
     "text": [
      "MSE 312.3473318340108\n",
      "MSE 7907.302450716887\n",
      "MSE 1118.1054528171353\n",
      "MSE 8.715719990121394e-05\n"
     ]
    }
   ],
   "source": [
    "from itertools import combinations\n",
    "for c in combinations(range(4), 3):\n",
    "    lr = LinearRegression()\n",
    "    lr.fit(Xtrain[:,c], ytrain)\n",
    "    yp = lr.predict(Xtest[:,c])\n",
    "\n",
    "    print('MSE', np.sum((ytest - yp)**2) / len(ytest))\n",
    "    # Each combo is in Xtrain[:,c]"
   ]
  },
  {
   "cell_type": "code",
   "execution_count": null,
   "metadata": {},
   "outputs": [],
   "source": []
  }
 ],
 "metadata": {
  "colab": {
   "collapsed_sections": [
    "Kcj8A0P0v7dh",
    "HO-j8e-Tv_sx",
    "hfrgWaTMwRtO",
    "qv98pKpsw2hS",
    "E-V7lzeCyEO9",
    "14grcLsczPMB",
    "em3YWQIY0m9P",
    "D7-tmWZw0zBK",
    "8Q2T9J9l_iVC",
    "Mwfm5BPt3nwq",
    "o7Do8DEb4NTZ",
    "rvz0edUO4zqh",
    "n2y3wVWl59LY"
   ],
   "name": "Practica1_1a_parte_profesor.ipynb",
   "provenance": []
  },
  "kernelspec": {
   "display_name": "Python 3 (ipykernel)",
   "language": "python",
   "name": "python3"
  },
  "language_info": {
   "codemirror_mode": {
    "name": "ipython",
    "version": 3
   },
   "file_extension": ".py",
   "mimetype": "text/x-python",
   "name": "python",
   "nbconvert_exporter": "python",
   "pygments_lexer": "ipython3",
   "version": "3.9.7"
  }
 },
 "nbformat": 4,
 "nbformat_minor": 1
}
