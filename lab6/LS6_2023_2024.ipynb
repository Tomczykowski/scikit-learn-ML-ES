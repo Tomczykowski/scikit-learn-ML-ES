{
 "cells": [
  {
   "cell_type": "markdown",
   "id": "d451c1b0",
   "metadata": {},
   "source": [
    "<img src=\"gcd.png\" align=\"right\" style=\"float\" width=\"100\">\n",
    "\n",
    "<img src=\"logo_UV.jpg\"  align=\"right\" style=\"float\" width=\"200\">\n",
    "\n",
    "<font color=\"#CA3532\"><h1 align=\"left\">Degree in Data Science.</h1></font>\n",
    "<font color=\"#6E6E6E\"><h2 align=\"left\">Lab Session 6. Hackathon.</h2></font> \n",
    "\n",
    "\n",
    "#### Nombre Apellidos"
   ]
  },
  {
   "cell_type": "markdown",
   "id": "ee018601",
   "metadata": {},
   "source": [
    "The grades will not depend only on the obtained results but also on the procedure followed and its proper reasoning. You have to include comments describing what you have done and its motivation. The use of knowledge learned during ALL lab sessions will be positively evaluated.\n",
    "\n",
    "+ `The use of the SCIKIT-LEARN library is preferred`\n",
    "+ `Code without any comments will be penalized`\n",
    "+ `Answer carefully any question suggested`\n",
    "\n",
    "La nota no va a depender únicamente de los resultados obtenidos sino del procedimiento utilizado y su justificación. Esmérate en incluir comentarios que describan el procedimiento y la motivación de cada paso. Se valorará el uso de todos los conocimientos desarrollados durante las prácticas. \n",
    "\n",
    "+ `SE DEBEN UNAR PREFERENTEMENTE FUNCIONES DE LA LIBRERÍA SCIKIT-LEARN`\n",
    "+ `SE PENALIZARÁ LA INCLUSION DE SEGMENTOS DE CÓDIGO SIN EXPLICACIONES CLARAS DE SU COMETIDO`\n",
    "+ `NO TE LIMITES A ESCRIBIR CÓDIGO, DEBES RESPONDER CLARAMENTE A LAS PREGUNTAS QUE SE PLANTEAN` \n",
    "\n",
    "### How to send the results\n",
    "\n",
    "At the end of the session, you have to send:\n",
    "\n",
    "* A compressed folder (ZIP) that has to contain:\n",
    "  +  a `data` folder with the used data\n",
    "  +  a `LS6_2023_2024.ipynb` file with your work, including your comments and answers to the proposed questions.\n",
    "  \n",
    "**Don't change the names of the files please**\n",
    "\n",
    "### Entrega \n",
    "\n",
    "Al finalizar el examen debéis entregar:  \n",
    "\n",
    "* Una carpeta con compresión ZIP que contenga:\n",
    "    + carpeta `data` con los datos del problema.\n",
    "    + Un fichero `LS6_2023_2024.ipynb` con el código utilizado **debidamente comentado** que incluya las respuesta a las preguntas planteadas.  \n",
    "    \n",
    "`UTILIZA SIEMPRE RUTAS LOCALES, REFERIDAS A LA UBICACIÓN DEL JUPITER NOTEBOOK, PARA LA CARGA DE DATOS DE FICHEROS`\n",
    "\n",
    "**NO CAMBIES EL NOMBRE A ESTOS FICHEROS**  "
   ]
  },
  {
   "cell_type": "code",
   "execution_count": 1,
   "id": "cc33b409",
   "metadata": {},
   "outputs": [],
   "source": [
    "import pandas as pd \n",
    "import numpy as np\n",
    "import matplotlib.pyplot as plt\n",
    "import scipy\n",
    "from scipy.spatial.distance import pdist\n",
    "from scipy.stats import mode\n",
    "from sklearn.model_selection import train_test_split\n",
    "from sklearn.utils import resample\n",
    "from sklearn.preprocessing import MinMaxScaler, StandardScaler\n",
    "from sklearn.preprocessing import OrdinalEncoder, QuantileTransformer, PowerTransformer\n",
    "from sklearn.decomposition import PCA\n",
    "from sklearn.model_selection import GridSearchCV, KFold\n",
    "from sklearn.svm import SVC, SVR\n",
    "from sklearn.tree import DecisionTreeClassifier, DecisionTreeRegressor\n",
    "from sklearn.ensemble import BaggingClassifier, BaggingRegressor\n",
    "from sklearn.ensemble import RandomForestClassifier, RandomForestRegressor\n",
    "from sklearn import metrics\n",
    "from sklearn.feature_selection import mutual_info_classif,SelectKBest \n",
    "from sklearn.metrics import mean_squared_error\n",
    "from sklearn.metrics import accuracy_score"
   ]
  },
  {
   "cell_type": "markdown",
   "id": "cc29d670",
   "metadata": {},
   "source": [
    "1. Import the data provided in the folder (1 points). Check that there aren't missing data (.info(),.describe()) and that the variables are numeric."
   ]
  },
  {
   "cell_type": "code",
   "execution_count": 2,
   "id": "e0fe5497",
   "metadata": {},
   "outputs": [
    {
     "name": "stdout",
     "output_type": "stream",
     "text": [
      "X_data info:\n",
      "<class 'pandas.core.frame.DataFrame'>\n",
      "RangeIndex: 1234 entries, 0 to 1233\n",
      "Data columns (total 6 columns):\n",
      " #   Column  Non-Null Count  Dtype  \n",
      "---  ------  --------------  -----  \n",
      " 0   v1      1234 non-null   float64\n",
      " 1   v2      1234 non-null   float64\n",
      " 2   v3      1234 non-null   float64\n",
      " 3   v4      1234 non-null   float64\n",
      " 4   v5      1234 non-null   float64\n",
      " 5   v6      1234 non-null   float64\n",
      "dtypes: float64(6)\n",
      "memory usage: 58.0 KB\n",
      "None\n",
      "\n",
      "X_data description:\n",
      "                v1           v2           v3           v4           v5  \\\n",
      "count  1234.000000  1234.000000  1234.000000  1234.000000  1234.000000   \n",
      "mean     -0.207488     1.989606     1.339924    -1.189677    -0.237945   \n",
      "std       1.025655     5.833729     4.254393     2.089994     1.809110   \n",
      "min      -1.414213   -13.773100    -5.286100    -8.548200    -3.952200   \n",
      "25%      -1.238838    -1.438150    -1.646875    -2.462275    -1.325275   \n",
      "50%      -0.419407     2.334150     0.561365    -0.588590    -0.370350   \n",
      "75%       0.791712     6.833275     3.073200     0.391580     0.795175   \n",
      "max       1.414175    12.951600    17.927400     2.162500     6.205200   \n",
      "\n",
      "                v6  \n",
      "count  1234.000000  \n",
      "mean     -0.177032  \n",
      "std       2.036298  \n",
      "min      -6.387900  \n",
      "25%      -1.527425  \n",
      "50%       0.105550  \n",
      "75%       1.393775  \n",
      "max       3.592600  \n",
      "\n",
      "y_data info:\n",
      "<class 'pandas.core.frame.DataFrame'>\n",
      "RangeIndex: 1234 entries, 0 to 1233\n",
      "Data columns (total 1 columns):\n",
      " #   Column  Non-Null Count  Dtype\n",
      "---  ------  --------------  -----\n",
      " 0   clase   1234 non-null   int64\n",
      "dtypes: int64(1)\n",
      "memory usage: 9.8 KB\n",
      "None\n",
      "\n",
      "y_data description:\n",
      "             clase\n",
      "count  1234.000000\n",
      "mean      0.443274\n",
      "std       0.496973\n",
      "min       0.000000\n",
      "25%       0.000000\n",
      "50%       0.000000\n",
      "75%       1.000000\n",
      "max       1.000000\n"
     ]
    }
   ],
   "source": [
    "#Solution\n",
    "\n",
    "X_data = pd.read_csv('data/X_modelo_L1.csv')\n",
    "y_data = pd.read_csv('data/y_modelo_L1.csv')\n",
    "\n",
    "\n",
    "print(\"X_data info:\")\n",
    "print(X_data.info())\n",
    "print(\"\\nX_data description:\")\n",
    "print(X_data.describe())\n",
    "\n",
    "print(\"\\ny_data info:\")\n",
    "print(y_data.info())\n",
    "print(\"\\ny_data description:\")\n",
    "print(y_data.describe())"
   ]
  },
  {
   "cell_type": "markdown",
   "id": "129b4580",
   "metadata": {},
   "source": [
    "2. Divide your dataset into training (70%) and test (30%) subsets using the *hold-out* logic. Provide the random state for reproducibility using the seed value of 123. "
   ]
  },
  {
   "cell_type": "code",
   "execution_count": 3,
   "id": "99d3a31e",
   "metadata": {},
   "outputs": [
    {
     "name": "stdout",
     "output_type": "stream",
     "text": [
      "X_train shape: (863, 6)\n",
      "X_test shape: (371, 6)\n",
      "y_train shape: (863, 1)\n",
      "y_test shape: (371, 1)\n"
     ]
    }
   ],
   "source": [
    "#Solution\n",
    "\n",
    "# Set the seed for reproducibility\n",
    "random_state = 123\n",
    "\n",
    "# Split the data into training and test sets\n",
    "X_train, X_test, y_train, y_test = train_test_split(X_data, y_data, test_size=0.3, random_state=random_state)\n",
    "\n",
    "print(\"X_train shape:\", X_train.shape)\n",
    "print(\"X_test shape:\", X_test.shape)\n",
    "print(\"y_train shape:\", y_train.shape)\n",
    "print(\"y_test shape:\", y_test.shape)"
   ]
  },
  {
   "cell_type": "markdown",
   "id": "09b6f0b9",
   "metadata": {},
   "source": [
    "3. Scale the inputs (standardize), and consider that you have two subsets (train/test).\n",
    "+ Why do you do this?\n",
    "+ Do you need to do this allways for any kind of modelling approach?"
   ]
  },
  {
   "cell_type": "markdown",
   "id": "2dbfda85",
   "metadata": {},
   "source": [
    "Different features in your dataset may have different scales. Standardizing helps in bringing all features to a similar scale.<br>\n",
    "Standardizing features ensures that no single feature dominates the learning algorithm due to its scale.<br>\n",
    "The need for standardizing features depends on the specific machine learning algorithm which is used."
   ]
  },
  {
   "cell_type": "code",
   "execution_count": 4,
   "id": "fcccb192",
   "metadata": {},
   "outputs": [],
   "source": [
    "#Solution\n",
    "\n",
    "# Create a StandardScaler\n",
    "scaler = StandardScaler()\n",
    "# normalizer = Normalizer()\n",
    "# X_train_normalized = normalizer.fit_transform(X_train)\n",
    "\n",
    "\n",
    "# Fit the scaler on the training data and transform both training and test sets\n",
    "X_train_scaled = scaler.fit_transform(X_train)\n",
    "X_test_scaled = scaler.transform(X_test)"
   ]
  },
  {
   "cell_type": "markdown",
   "id": "6035dcf8",
   "metadata": {},
   "source": [
    "4. Check how \"independent\" are the input variables. Visualize the correlation matrix (`corrcoef()`,`.imshow()`) and discard the highly correlated ones (`> 0.80`), keeping the first among the highly correlated ones. Hint: you can use `numpy.delete()`  to remove the features (columns) you are not interested. Remember to consider the absolute values of the correlation matrix."
   ]
  },
  {
   "cell_type": "code",
   "execution_count": 5,
   "id": "2825622e",
   "metadata": {},
   "outputs": [
    {
     "data": {
      "image/png": "[encoded data removed]",
      "text/plain": [
       "<Figure size 432x288 with 2 Axes>"
      ]
     },
     "metadata": {
      "needs_background": "light"
     },
     "output_type": "display_data"
    }
   ],
   "source": [
    "#Solution\n",
    "\n",
    "# Calculate the correlation matrix\n",
    "correlation_matrix = np.abs(np.corrcoef(X_train_scaled, rowvar=False))\n",
    "\n",
    "# Visualize the correlation matrix\n",
    "plt.imshow(correlation_matrix, cmap='viridis', interpolation='none')\n",
    "plt.colorbar()\n",
    "plt.title('Correlation Matrix')\n",
    "plt.show()"
   ]
  },
  {
   "cell_type": "code",
   "execution_count": 6,
   "id": "786bad81",
   "metadata": {},
   "outputs": [
    {
     "name": "stdout",
     "output_type": "stream",
     "text": [
      "X_train_no_corr shape: (863, 5)\n",
      "X_test_no_corr shape: (371, 5)\n"
     ]
    }
   ],
   "source": [
    "#Solution\n",
    "\n",
    "# Find and remove highly correlated features\n",
    "threshold = 0.8\n",
    "highly_correlated = np.where(correlation_matrix > threshold)\n",
    "correlated_features = set()\n",
    "\n",
    "for i, j in zip(*highly_correlated):\n",
    "    if i != j and i not in correlated_features and j not in correlated_features:\n",
    "        correlated_features.add(j)\n",
    "        \n",
    "# Remove highly correlated features\n",
    "X_train_no_corr = np.delete(X_train_scaled, list(correlated_features), axis=1)\n",
    "X_test_no_corr = np.delete(X_test_scaled, list(correlated_features), axis=1)\n",
    "\n",
    "# Display the shapes after removing correlated features\n",
    "print(\"X_train_no_corr shape:\", X_train_no_corr.shape)\n",
    "print(\"X_test_no_corr shape:\", X_test_no_corr.shape)"
   ]
  },
  {
   "cell_type": "markdown",
   "id": "2d2ce6b0",
   "metadata": {},
   "source": [
    "5. Reduce the dimensionality of the input data by rotating the data (PCA). Afterward, plot the total variance (x) versus the number of components (y), and take the minimum number of components that capture at least `98%` of the cumulative variance. **Important! Use the scaled data, not the data with the highly correlated variables removed from the previous exercise**.\n",
    "+ What is the optimal number of components?\n",
    "+ Explain what the curve represents\n",
    "+ Apply the PCA to the input data accordingly using the optimal number of components"
   ]
  },
  {
   "cell_type": "markdown",
   "id": "9b9b44e1",
   "metadata": {},
   "source": [
    "The optimal number of components is 4. The chart shows that the first component describes approximately 85% of the inputs. From 4, each subsequent element describes a small number of inputs."
   ]
  },
  {
   "cell_type": "code",
   "execution_count": 7,
   "id": "9e406556",
   "metadata": {},
   "outputs": [
    {
     "data": {
      "image/png": "[encoded data removed]",
      "text/plain": [
       "<Figure size 432x288 with 1 Axes>"
      ]
     },
     "metadata": {
      "needs_background": "light"
     },
     "output_type": "display_data"
    },
    {
     "name": "stdout",
     "output_type": "stream",
     "text": [
      "Minimum number of components for 98% cumulative variance: 4\n",
      "Minimum Number of Components: 4\n",
      "Shape of X_train: (863, 4)\n",
      "Shape of X_test: (371, 4)\n"
     ]
    }
   ],
   "source": [
    "#Solution\n",
    "\n",
    "# Create a PCA instance\n",
    "pca = PCA()\n",
    "\n",
    "# Fit PCA on the scaled data\n",
    "pca.fit(X_train_scaled)\n",
    "\n",
    "# Calculate cumulative explained variance\n",
    "cumulative_variance = np.cumsum(pca.explained_variance_ratio_)\n",
    "\n",
    "# Plot total variance versus number of components\n",
    "plt.plot(range(1, len(cumulative_variance) + 1), cumulative_variance, marker='o')\n",
    "plt.xlabel('Number of Components')\n",
    "plt.ylabel('Cumulative Explained Variance')\n",
    "plt.title('Total Variance vs. Number of Components')\n",
    "plt.grid(True)\n",
    "plt.show()\n",
    "\n",
    "# Find the minimum number of components for at least 98% cumulative variance\n",
    "min_components = np.argmax(cumulative_variance >= 0.98) + 1\n",
    "print(\"Minimum number of components for 98% cumulative variance:\", min_components)\n",
    "\n",
    "# Apply PCA with the determined number of components\n",
    "pca = PCA(n_components=min_components)\n",
    "X_train_pca = pca.fit_transform(X_train_scaled)\n",
    "X_test_pca = pca.transform(X_test_scaled)\n",
    "\n",
    "# Print the minimum number of components\n",
    "print(\"Minimum Number of Components:\", min_components)\n",
    "\n",
    "# Print courent shape of data\n",
    "print(\"Shape of X_train:\", X_train_pca.shape)\n",
    "print(\"Shape of X_test:\", X_test_pca.shape)"
   ]
  },
  {
   "cell_type": "markdown",
   "id": "1bf6bbe0",
   "metadata": {},
   "source": [
    "6. Now, we are going to train and optimize (gridsearchCV) the parameters of two random forest models:\n",
    "+ a) with the reduced input features according to the correlation criteria\n",
    "+ b) with the optimized PCA transformation of the inputs\n",
    "\n",
    "Which one has ended up being the best approach? Why?\n",
    "\n",
    "To find the best possible model, please constrain the search to a number of estimators between `[1,150]` in steps of `20`, minimum samples per leaf ranging between `[1,20]`, and three strategies to select the maximum number of features when looking for the best split of `('auto','log2','sqrt') `\n"
   ]
  },
  {
   "cell_type": "markdown",
   "id": "089debbe",
   "metadata": {},
   "source": [
    "Accurycy score with PCA should not to be much worse, it may be due to the fact that PCA uses 4 out of 6 features, which has a minimal impact on the deterioration of the result but significantly speeds up the operation of the program. In my program I have the same accuricy score even though gridsearch uses different parameters. This may be due to the random selection of featchers."
   ]
  },
  {
   "cell_type": "code",
   "execution_count": 8,
   "id": "2537a55f",
   "metadata": {},
   "outputs": [
    {
     "name": "stdout",
     "output_type": "stream",
     "text": [
      "Best parameters for model with reduced input features: {'max_features': 'auto', 'min_samples_leaf': 2, 'n_estimators': 41}\n",
      "Best parameters for model with PCA transformation of inputs: {'max_features': 'auto', 'min_samples_leaf': 1, 'n_estimators': 61}\n"
     ]
    }
   ],
   "source": [
    "#Solution\n",
    "\n",
    "# Reshape the target variable using ravel()\n",
    "y_train_flat = y_train.values.ravel()\n",
    "\n",
    "# Define the parameter grid for Random Forest\n",
    "param_grid = {\n",
    "    'n_estimators': np.arange(1, 151, 20),\n",
    "    'min_samples_leaf': np.arange(1, 21),\n",
    "    'max_features': ['auto', 'log2', 'sqrt']\n",
    "}\n",
    "\n",
    "# Model with reduced input features\n",
    "rf_model_reduced = RandomForestClassifier(random_state=123)\n",
    "\n",
    "# GridSearchCV for the model with reduced input features\n",
    "grid_search_reduced = GridSearchCV(rf_model_reduced, param_grid, cv=5, n_jobs=-1)\n",
    "grid_search_reduced.fit(X_train_no_corr, y_train_flat)\n",
    "\n",
    "# Model with PCA transformation of inputs\n",
    "rf_model_pca = RandomForestClassifier(random_state=123)\n",
    "\n",
    "# GridSearchCV for the model with PCA transformation of inputs\n",
    "grid_search_pca = GridSearchCV(rf_model_pca, param_grid, cv=5, n_jobs=-1)\n",
    "grid_search_pca.fit(X_train_pca, y_train_flat)\n",
    "\n",
    "# Display the best parameters for each model\n",
    "print(\"Best parameters for model with reduced input features:\", grid_search_reduced.best_params_)\n",
    "print(\"Best parameters for model with PCA transformation of inputs:\", grid_search_pca.best_params_)\n"
   ]
  },
  {
   "cell_type": "code",
   "execution_count": 9,
   "id": "7667a180",
   "metadata": {},
   "outputs": [
    {
     "name": "stdout",
     "output_type": "stream",
     "text": [
      "Accuracy score on Reduced Features: 0.9460916442048517\n",
      "Accuracy score on PCA Transformation: 0.9460916442048517\n"
     ]
    }
   ],
   "source": [
    "# Make predictions on the test set\n",
    "y_pred_reduced = grid_search_reduced.predict(X_test_no_corr)\n",
    "y_pred_pca = grid_search_pca.predict(X_test_pca)\n",
    "\n",
    "# Evaluate performance on the test set\n",
    "accuracy_reduced = accuracy_score(y_test, y_pred_reduced)\n",
    "accuracy_pca = accuracy_score(y_test, y_pred_pca)\n",
    "\n",
    "# mean_squared_error(y_test, y_pred_pca)\n",
    "\n",
    "print(\"Accuracy score on Reduced Features:\", accuracy_reduced)\n",
    "print(\"Accuracy score on PCA Transformation:\", accuracy_pca)"
   ]
  },
  {
   "cell_type": "markdown",
   "id": "86bd4b21",
   "metadata": {},
   "source": [
    "7. Finally, plot the feature importances of the best-followed modeling approach according to your results. Use the Mean Decrease in Impurity (MDI) as a metric.\n",
    "Use a bar plot (pd.Series) and show the std over the trees composing Rf of the `best_estimator`.   \n",
    "+ Which are the most relevant input features for the classifier?"
   ]
  },
  {
   "cell_type": "markdown",
   "id": "9985e079",
   "metadata": {},
   "source": [
    "The most important for the classifier are feature4 and feature1. The rest is also important, but there is a significant difference between this pair and the rest"
   ]
  },
  {
   "cell_type": "code",
   "execution_count": 12,
   "id": "02679466",
   "metadata": {},
   "outputs": [
    {
     "name": "stdout",
     "output_type": "stream",
     "text": [
      "RandomForestClassifier(n_estimators=61, random_state=123)\n"
     ]
    },
    {
     "data": {
      "image/png": "[encoded data removed]",
      "text/plain": [
       "<Figure size 864x432 with 1 Axes>"
      ]
     },
     "metadata": {
      "needs_background": "light"
     },
     "output_type": "display_data"
    }
   ],
   "source": [
    "bestEstimators = grid_search_pca.best_estimator_.estimators_\n",
    "\n",
    "# Create generic feature names for plotting\n",
    "feature_names_generic = [f\"Feature{i+1}\" for i in range(X_train_pca.shape[1])]\n",
    "\n",
    "# Extract feature importances and std from the best model with PCA transformation\n",
    "feature_importances_pca = grid_search_pca.best_estimator_.feature_importances_\n",
    "std_importances_pca = np.std([tree.feature_importances_ for tree in bestEstimators], axis=0)\n",
    "\n",
    "# Create a pandas Series for easier plotting\n",
    "importance_series_pca = pd.Series(feature_importances_pca, index=feature_names_generic)\n",
    "\n",
    "# Plot feature importances with std\n",
    "plt.figure(figsize=(12, 6))\n",
    "importance_series_pca.plot(kind='bar', yerr=std_importances_pca, capsize=5)\n",
    "plt.title('Feature Importances with Mean Decrease in Impurity (MDI) - PCA')\n",
    "plt.xlabel('Features')\n",
    "plt.ylabel('Importance')\n",
    "plt.show()"
   ]
  },
  {
   "cell_type": "markdown",
   "id": "97783922",
   "metadata": {},
   "source": [
    "8. Predict on the evaluation dataset and save the data as a CSV file with a (`,`) delimiter and add a header to the file named `Yhat_Eva`   "
   ]
  },
  {
   "cell_type": "code",
   "execution_count": 13,
   "id": "ea92b7a8",
   "metadata": {},
   "outputs": [
    {
     "name": "stdout",
     "output_type": "stream",
     "text": [
      "Shape of X_train: (1234, 5)\n",
      "[1 0 0 0 0 0 0 1 0 1 1 0 1 1 0 0 0 0 0 0 0 1 0 1 0 1 1 0 1 1 0 0 0 0 1 0 0\n",
      " 0 1 0 0 1 1 0 1 1 1 1 0 0 1 0 0 0 1 1 0 1 1 0 0 0 0 0 0 0 1 1 0 0 1 1 1 1\n",
      " 0 0 1 1 0 0 1 0 1 1 1 0 1 0 0 1 1 0 0 1 0 1 1 1 0 0 0 0 1 0 0 0 0 0 1 1 1\n",
      " 0 0 1 1 1 1 1 1 0 1 0 0 0 0 1 1 0 0 0 1 0 0 0 1 0 0 0]\n"
     ]
    }
   ],
   "source": [
    "X_evalua = pd.read_csv('data/X_evalua_L1.csv')\n",
    "\n",
    "# Create a StandardScaler\n",
    "scaler = StandardScaler()\n",
    "\n",
    "# Fit the scaler on the training data and transform both training and test sets\n",
    "X_scaled = scaler.fit_transform(X_data)\n",
    "X_evalua_scaled = scaler.transform(X_evalua)\n",
    "\n",
    "# Calculate the correlation matrix\n",
    "correlation_matrix = np.abs(np.corrcoef(X_scaled, rowvar=False))\n",
    "\n",
    "# Find and remove highly correlated features\n",
    "threshold = 0.8\n",
    "highly_correlated = np.where(correlation_matrix > threshold)\n",
    "correlated_features = set()\n",
    "\n",
    "for i, j in zip(*highly_correlated):\n",
    "    if i != j and i not in correlated_features and j not in correlated_features:\n",
    "        correlated_features.add(j)\n",
    "\n",
    "# Remove highly correlated features\n",
    "X_no_corr = np.delete(X_scaled, list(correlated_features), axis=1)\n",
    "X_evalua_no_corr = np.delete(X_evalua_scaled, list(correlated_features), axis=1)\n",
    "print(\"Shape of X_train:\", X_no_corr.shape)\n",
    "\n",
    "# Model with reduced input features\n",
    "rf_classifier = RandomForestClassifier(n_estimators=41, min_samples_leaf=2, max_features='auto', random_state=123)\n",
    "\n",
    "# Fit the scaler on the training data\n",
    "rf_classifier.fit(X_no_corr, np.ravel(y_data))\n",
    "\n",
    "# Make predictions\n",
    "y_pred = rf_classifier.predict(X_evalua_no_corr)\n",
    "print(y_pred)\n",
    "predictions = pd.DataFrame(y_pred)\n",
    "\n",
    "# Save the DataFrame to a CSV file with a (,) delimiter and include a header\n",
    "predictions.to_csv('data_predictions.csv', index=False)"
   ]
  },
  {
   "cell_type": "code",
   "execution_count": null,
   "id": "04ecd90d",
   "metadata": {},
   "outputs": [],
   "source": []
  }
 ],
 "metadata": {
  "kernelspec": {
   "display_name": "Python 3 (ipykernel)",
   "language": "python",
   "name": "python3"
  },
  "language_info": {
   "codemirror_mode": {
    "name": "ipython",
    "version": 3
   },
   "file_extension": ".py",
   "mimetype": "text/x-python",
   "name": "python",
   "nbconvert_exporter": "python",
   "pygments_lexer": "ipython3",
   "version": "3.9.7"
  },
  "vscode": {
   "interpreter": {
    "hash": "e68764b171a12e483c44bec02689822001f26f5d783c2590654eafb9b4b657d9"
   }
  }
 },
 "nbformat": 4,
 "nbformat_minor": 5
}
